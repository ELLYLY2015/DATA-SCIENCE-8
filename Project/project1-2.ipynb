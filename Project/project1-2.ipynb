{
 "cells": [
  {
   "cell_type": "code",
   "execution_count": 28,
   "metadata": {
    "deletable": false,
    "editable": false
   },
   "outputs": [
    {
     "name": "stdout",
     "output_type": "stream",
     "text": [
      "=====================================================================\n",
      "Assignment: Project 1: World Progress\n",
      "OK, version v1.12.5\n",
      "=====================================================================\n",
      "\n"
     ]
    }
   ],
   "source": [
    "# Initialize OK\n",
    "from client.api.notebook import Notebook\n",
    "ok = Notebook('project1.ok')"
   ]
  },
  {
   "cell_type": "markdown",
   "metadata": {},
   "source": [
    "## Project 1: World Progress"
   ]
  },
  {
   "cell_type": "markdown",
   "metadata": {},
   "source": [
    "In this project, you'll explore data from [Gapminder.org](http://gapminder.org), a website dedicated to providing a fact-based view of the world and how it has changed. That site includes several data visualizations and presentations, but also publishes the raw data that we will use in this project to recreate and extend some of their most famous visualizations.\n",
    "\n",
    "The Gapminder website collects data from many sources and compiles them into tables that describe many countries around the world. All of the data they aggregate are published in the [Systema Globalis](https://github.com/open-numbers/ddf--gapminder--systema_globalis/blob/master/README.md). Their goal is \"to compile all public statistics; Social, Economic and Environmental; into a comparable total dataset.\" All data sets in this project are copied directly from the Systema Globalis without any changes.\n",
    "\n",
    "This project is dedicated to [Hans Rosling](https://en.wikipedia.org/wiki/Hans_Rosling) (1948-2017), who championed the use of data to understand and prioritize global development challenges."
   ]
  },
  {
   "cell_type": "markdown",
   "metadata": {},
   "source": [
    "### Logistics\n",
    "\n",
    "**Deadline.** This project is due at 11:59pm on Friday 2/28. Projects will be accepted up to 2 days (48 hours) late; a project submitted less than 24 hours after the deadline will receive 2/3 credit, a project submitted between 24 and 48 hours after the deadline will receive 1/3 credit, and a project submitted 48 hours or more after the deadline will receive no credit. It's **much** better to be early than late, so start working now.\n",
    "\n",
    "**Checkpoint.** For full credit, you must also complete the first 8 questions, pass all public autograder tests, and submit to okpy by 11:59pm on Friday 2/21. After you've submitted the checkpoint, you may still change your answers before the project deadline - only your final submission will be graded for correctness. You will have some lab time to work on these questions, but we recommend that you start the project before lab and leave time to finish the checkpoint afterward.\n",
    "\n",
    "**Partners.** You may work with one other partner; your partner must be from your assigned lab section. Only one of you is required to submit the project. On [okpy.org](http://okpy.org), the person who submits should also designate their partner so that both of you receive credit.\n",
    "\n",
    "**Rules.** Don't share your code with anybody but your partner. You are welcome to discuss questions with other students, but don't share the answers. The experience of solving the problems in this project will prepare you for exams (and life). If someone asks you for the answer, resist! Instead, you can demonstrate how you would solve a similar problem.\n",
    "\n",
    "**Support.** You are not alone! Come to office hours, post on Piazza, and talk to your classmates. If you want to ask about the details of your solution to a problem, make a private Piazza post and the staff will respond. If you're ever feeling overwhelmed or don't know how to make progress, email your TA or tutor for help. You can find contact information for the staff on the [course website](http://data8.org/sp20/staff.html).\n",
    "\n",
    "**Tests.** The tests that are given are **not comprehensive** and passing the tests for a question **does not** mean that you answered the question correctly. Tests usually only check that your table has the correct column labels. However, more tests will be applied to verify the correctness of your submission in order to assign your final score, so be careful and check your work! You might want to create your own checks along the way to see if your answers make sense. Additionally, before you submit, make sure that none of your cells take a very long time to run (several minutes).\n",
    "\n",
    "**Free Response Questions:** Make sure that you put the answers to the written questions in the indicated cell we provide. Check to make sure that you have a [Gradescope](http://gradescope.com) account, which is where the scores to the free response questions will be posted. If you do not, make sure to reach out to your assigned (u)GSI.\n",
    "\n",
    "**Advice.** Develop your answers incrementally. To perform a complicated table manipulation, break it up into steps, perform each step on a different line, give a new name to each result, and check that each intermediate result is what you expect. You can add any additional names or functions you want to the provided cells. Make sure that you are using distinct and meaningful variable names throughout the notebook. Along that line, **DO NOT** reuse the variable names that we use when we grade your answers. For example, in Question 1 of the Global Poverty section, we ask you to assign an answer to `latest`. Do not reassign the variable name `latest` to anything else in your notebook, otherwise there is the chance that our tests grade against what `latest` was reassigned to.\n",
    "\n",
    "You **never** have to use just one line in this project or any others. Use intermediate variables and multiple lines as much as you would like!  \n",
    "\n",
    "To get started, load `datascience`, `numpy`, `plots`, and `ok`."
   ]
  },
  {
   "cell_type": "code",
   "execution_count": 29,
   "metadata": {},
   "outputs": [
    {
     "name": "stdout",
     "output_type": "stream",
     "text": [
      "=====================================================================\n",
      "Assignment: Project 1: World Progress\n",
      "OK, version v1.12.5\n",
      "=====================================================================\n",
      "\n"
     ]
    }
   ],
   "source": [
    "from datascience import *\n",
    "import numpy as np\n",
    "\n",
    "%matplotlib inline\n",
    "import matplotlib.pyplot as plots\n",
    "plots.style.use('fivethirtyeight')\n",
    "\n",
    "from client.api.notebook import Notebook\n",
    "ok = Notebook('project1.ok')"
   ]
  },
  {
   "cell_type": "markdown",
   "metadata": {},
   "source": [
    "Before continuing the assignment, select \"Save and Checkpoint\" in the File menu and then execute the submit cell below. The result will contain a link that you can use to check that your assignment has been submitted successfully. If you submit more than once before the deadline, we will only grade your final submission. If you mistakenly submit the wrong one, you can head to okpy.org and flag the correct version. There will be another submit cell at the end of the assignment when you finish!"
   ]
  },
  {
   "cell_type": "code",
   "execution_count": 3,
   "metadata": {},
   "outputs": [
    {
     "data": {
      "application/javascript": [
       "IPython.notebook.save_checkpoint();"
      ],
      "text/plain": [
       "<IPython.core.display.Javascript object>"
      ]
     },
     "metadata": {},
     "output_type": "display_data"
    },
    {
     "data": {
      "application/javascript": [
       "IPython.notebook.save_notebook();"
      ],
      "text/plain": [
       "<IPython.core.display.Javascript object>"
      ]
     },
     "metadata": {},
     "output_type": "display_data"
    },
    {
     "name": "stdout",
     "output_type": "stream",
     "text": [
      "Saving notebook... Saved 'project1.ipynb'.\n",
      "Performing authentication\n",
      "Please enter your bCourses email.\n",
      "bCourses email: \n",
      "\n",
      "Copy the following URL and open it in a web browser. To copy,\n",
      "highlight the URL, right-click, and select \"Copy\".\n",
      "\n",
      "https://okpy.org/client/login/\n",
      "\n",
      "After logging in, copy the code from the web page, paste it below,\n",
      "and press Enter. To paste, right-click and select \"Paste\".\n",
      "\n",
      "Paste your code here: \n",
      "---------------------------------------------------------------------\n",
      "Authentication error: invalid grant\n",
      "---------------------------------------------------------------------\n",
      "Not authenticated. Cannot send submission to server\n"
     ]
    }
   ],
   "source": [
    "_ = ok.submit()"
   ]
  },
  {
   "cell_type": "markdown",
   "metadata": {
    "deletable": false,
    "editable": false
   },
   "source": [
    "## 1. Global Population Growth\n"
   ]
  },
  {
   "cell_type": "markdown",
   "metadata": {
    "deletable": false,
    "editable": false
   },
   "source": [
    "The global population of humans reached 1 billion around 1800, 3 billion around 1960, and 7 billion around 2011. The potential impact of exponential population growth has concerned scientists, economists, and politicians alike.\n",
    "\n",
    "The UN Population Division estimates that the world population will likely continue to grow throughout the 21st century, but at a slower rate, perhaps reaching 11 billion by 2100. However, the UN does not rule out scenarios of more extreme growth.\n",
    "\n",
    "<a href=\"http://www.pewresearch.org/fact-tank/2015/06/08/scientists-more-worried-than-public-about-worlds-growing-population/ft_15-06-04_popcount/\"> \n",
    " <img src=\"pew_population_projection.png\"/> \n",
    "</a>\n",
    "\n",
    "In this section, we will examine some of the factors that influence population growth and how they are changing around the world.\n",
    "\n",
    "The first table we will consider is the total population of each country over time. Run the cell below."
   ]
  },
  {
   "cell_type": "code",
   "execution_count": 30,
   "metadata": {
    "deletable": false,
    "editable": false,
    "scrolled": true
   },
   "outputs": [
    {
     "data": {
      "text/html": [
       "<table border=\"1\" class=\"dataframe\">\n",
       "    <thead>\n",
       "        <tr>\n",
       "            <th>geo</th> <th>time</th> <th>population_total</th>\n",
       "        </tr>\n",
       "    </thead>\n",
       "    <tbody>\n",
       "        <tr>\n",
       "            <td>abw </td> <td>1800</td> <td>19286           </td>\n",
       "        </tr>\n",
       "        <tr>\n",
       "            <td>abw </td> <td>1801</td> <td>19286           </td>\n",
       "        </tr>\n",
       "        <tr>\n",
       "            <td>abw </td> <td>1802</td> <td>19286           </td>\n",
       "        </tr>\n",
       "    </tbody>\n",
       "</table>\n",
       "<p>... (87792 rows omitted)</p>"
      ],
      "text/plain": [
       "<IPython.core.display.HTML object>"
      ]
     },
     "metadata": {},
     "output_type": "display_data"
    }
   ],
   "source": [
    "population = Table.read_table('population.csv')\n",
    "population.show(3)"
   ]
  },
  {
   "cell_type": "markdown",
   "metadata": {},
   "source": [
    "**Note:** The population csv file can also be found [here](https://github.com/open-numbers/ddf--gapminder--systema_globalis/raw/master/ddf--datapoints--population_total--by--geo--time.csv). The data for this project was downloaded in February 2017."
   ]
  },
  {
   "cell_type": "markdown",
   "metadata": {
    "deletable": false,
    "editable": false
   },
   "source": [
    "### Bangladesh\n",
    "\n",
    "In the `population` table, the `geo` column contains three-letter codes established by the [International Organization for Standardization](https://en.wikipedia.org/wiki/International_Organization_for_Standardization) (ISO) in the [Alpha-3](https://en.wikipedia.org/wiki/ISO_3166-1_alpha-3#Current_codes) standard. We will begin by taking a close look at Bangladesh. Inspect the standard to find the 3-letter code for Bangladesh."
   ]
  },
  {
   "cell_type": "markdown",
   "metadata": {
    "deletable": false,
    "editable": false
   },
   "source": [
    "**Question 1.** Create a table called `b_pop` that has two columns labeled `time` and `population_total`. The first column should contain the years from 1970 through 2015 (including both 1970 and 2015) and the second should contain the population of Bangladesh in each of those years.\n",
    "\n",
    "<!--\n",
    "BEGIN QUESTION\n",
    "name: q1_1\n",
    "-->"
   ]
  },
  {
   "cell_type": "code",
   "execution_count": 31,
   "metadata": {
    "deletable": false
   },
   "outputs": [
    {
     "data": {
      "text/html": [
       "<table border=\"1\" class=\"dataframe\">\n",
       "    <thead>\n",
       "        <tr>\n",
       "            <th>time</th> <th>population_total</th>\n",
       "        </tr>\n",
       "    </thead>\n",
       "    <tbody>\n",
       "        <tr>\n",
       "            <td>1970</td> <td>65048701        </td>\n",
       "        </tr>\n",
       "        <tr>\n",
       "            <td>1971</td> <td>66417450        </td>\n",
       "        </tr>\n",
       "        <tr>\n",
       "            <td>1972</td> <td>67578486        </td>\n",
       "        </tr>\n",
       "        <tr>\n",
       "            <td>1973</td> <td>68658472        </td>\n",
       "        </tr>\n",
       "        <tr>\n",
       "            <td>1974</td> <td>69837960        </td>\n",
       "        </tr>\n",
       "        <tr>\n",
       "            <td>1975</td> <td>71247153        </td>\n",
       "        </tr>\n",
       "        <tr>\n",
       "            <td>1976</td> <td>72930206        </td>\n",
       "        </tr>\n",
       "        <tr>\n",
       "            <td>1977</td> <td>74848466        </td>\n",
       "        </tr>\n",
       "        <tr>\n",
       "            <td>1978</td> <td>76948378        </td>\n",
       "        </tr>\n",
       "        <tr>\n",
       "            <td>1979</td> <td>79141947        </td>\n",
       "        </tr>\n",
       "    </tbody>\n",
       "</table>\n",
       "<p>... (36 rows omitted)</p>"
      ],
      "text/plain": [
       "time | population_total\n",
       "1970 | 65048701\n",
       "1971 | 66417450\n",
       "1972 | 67578486\n",
       "1973 | 68658472\n",
       "1974 | 69837960\n",
       "1975 | 71247153\n",
       "1976 | 72930206\n",
       "1977 | 74848466\n",
       "1978 | 76948378\n",
       "1979 | 79141947\n",
       "... (36 rows omitted)"
      ]
     },
     "execution_count": 31,
     "metadata": {},
     "output_type": "execute_result"
    }
   ],
   "source": [
    "b_pop = population.where(\"geo\", \"bgd\").select(\"time\", \"population_total\").where(\"time\", are.between(1970, 2016))\n",
    "b_pop"
   ]
  },
  {
   "cell_type": "code",
   "execution_count": 32,
   "metadata": {
    "deletable": false,
    "editable": false
   },
   "outputs": [
    {
     "name": "stdout",
     "output_type": "stream",
     "text": [
      "~~~~~~~~~~~~~~~~~~~~~~~~~~~~~~~~~~~~~~~~~~~~~~~~~~~~~~~~~~~~~~~~~~~~~\n",
      "Running tests\n",
      "\n",
      "---------------------------------------------------------------------\n",
      "Test summary\n",
      "    Passed: 2\n",
      "    Failed: 0\n",
      "[ooooooooook] 100.0% passed\n",
      "\n"
     ]
    }
   ],
   "source": [
    "ok.grade(\"q1_1\");"
   ]
  },
  {
   "cell_type": "markdown",
   "metadata": {
    "deletable": false,
    "editable": false
   },
   "source": [
    "Run the following cell to create a table called `b_five` that has the population of Bangladesh every five years. At a glance, it appears that the population of Bangladesh has been growing quickly indeed!"
   ]
  },
  {
   "cell_type": "code",
   "execution_count": 202,
   "metadata": {
    "deletable": false,
    "editable": false
   },
   "outputs": [
    {
     "data": {
      "text/html": [
       "<table border=\"1\" class=\"dataframe\">\n",
       "    <thead>\n",
       "        <tr>\n",
       "            <th>time</th> <th>population_total</th>\n",
       "        </tr>\n",
       "    </thead>\n",
       "    <tbody>\n",
       "        <tr>\n",
       "            <td>1970</td> <td>65,048,701      </td>\n",
       "        </tr>\n",
       "        <tr>\n",
       "            <td>1975</td> <td>71,247,153      </td>\n",
       "        </tr>\n",
       "        <tr>\n",
       "            <td>1980</td> <td>81,364,176      </td>\n",
       "        </tr>\n",
       "        <tr>\n",
       "            <td>1985</td> <td>93,015,182      </td>\n",
       "        </tr>\n",
       "        <tr>\n",
       "            <td>1990</td> <td>105,983,136     </td>\n",
       "        </tr>\n",
       "        <tr>\n",
       "            <td>1995</td> <td>118,427,768     </td>\n",
       "        </tr>\n",
       "        <tr>\n",
       "            <td>2000</td> <td>131,280,739     </td>\n",
       "        </tr>\n",
       "        <tr>\n",
       "            <td>2005</td> <td>142,929,979     </td>\n",
       "        </tr>\n",
       "        <tr>\n",
       "            <td>2010</td> <td>151,616,777     </td>\n",
       "        </tr>\n",
       "        <tr>\n",
       "            <td>2015</td> <td>160,995,642     </td>\n",
       "        </tr>\n",
       "    </tbody>\n",
       "</table>"
      ],
      "text/plain": [
       "time | population_total\n",
       "1970 | 65,048,701\n",
       "1975 | 71,247,153\n",
       "1980 | 81,364,176\n",
       "1985 | 93,015,182\n",
       "1990 | 105,983,136\n",
       "1995 | 118,427,768\n",
       "2000 | 131,280,739\n",
       "2005 | 142,929,979\n",
       "2010 | 151,616,777\n",
       "2015 | 160,995,642"
      ]
     },
     "execution_count": 202,
     "metadata": {},
     "output_type": "execute_result"
    }
   ],
   "source": [
    "b_pop.set_format('population_total', NumberFormatter)\n",
    "\n",
    "fives = np.arange(1970, 2016, 5) # 1970, 1975, 1980, ...\n",
    "b_five = b_pop.sort('time').where('time', are.contained_in(fives))\n",
    "b_five"
   ]
  },
  {
   "cell_type": "markdown",
   "metadata": {
    "deletable": false,
    "editable": false
   },
   "source": [
    "**Question 2.** Assign `initial` to an array that contains the population for every five year interval from 1970 to 2010. Then, assign `changed` to an array that contains the population for every five year interval from 1975 to 2015. You should use the `b_five` table to create both arrays, first filtering the table to only contain the relevant years.\n",
    "\n",
    "We have provided the code below that uses  `initial` and `changed` in order to add a column to `b_five` called `annual_growth`. Don't worry about the calculation of the growth rates; run the test below to test your solution.\n",
    "\n",
    "If you are interested in how we came up with the formula for growth rates, consult the [growth rates](https://www.inferentialthinking.com/chapters/03/2/1/growth) section of the textbook.\n",
    "\n",
    "<!--\n",
    "BEGIN QUESTION\n",
    "name: q1_2\n",
    "-->"
   ]
  },
  {
   "cell_type": "code",
   "execution_count": 204,
   "metadata": {
    "deletable": false
   },
   "outputs": [
    {
     "data": {
      "text/html": [
       "<table border=\"1\" class=\"dataframe\">\n",
       "    <thead>\n",
       "        <tr>\n",
       "            <th>time</th> <th>population_total</th> <th>annual_growth</th>\n",
       "        </tr>\n",
       "    </thead>\n",
       "    <tbody>\n",
       "        <tr>\n",
       "            <td>1970</td> <td>65,048,701      </td> <td>1.84%        </td>\n",
       "        </tr>\n",
       "        <tr>\n",
       "            <td>1975</td> <td>71,247,153      </td> <td>2.69%        </td>\n",
       "        </tr>\n",
       "        <tr>\n",
       "            <td>1980</td> <td>81,364,176      </td> <td>2.71%        </td>\n",
       "        </tr>\n",
       "        <tr>\n",
       "            <td>1985</td> <td>93,015,182      </td> <td>2.64%        </td>\n",
       "        </tr>\n",
       "        <tr>\n",
       "            <td>1990</td> <td>105,983,136     </td> <td>2.25%        </td>\n",
       "        </tr>\n",
       "        <tr>\n",
       "            <td>1995</td> <td>118,427,768     </td> <td>2.08%        </td>\n",
       "        </tr>\n",
       "        <tr>\n",
       "            <td>2000</td> <td>131,280,739     </td> <td>1.71%        </td>\n",
       "        </tr>\n",
       "        <tr>\n",
       "            <td>2005</td> <td>142,929,979     </td> <td>1.19%        </td>\n",
       "        </tr>\n",
       "        <tr>\n",
       "            <td>2010</td> <td>151,616,777     </td> <td>1.21%        </td>\n",
       "        </tr>\n",
       "    </tbody>\n",
       "</table>"
      ],
      "text/plain": [
       "time | population_total | annual_growth\n",
       "1970 | 65,048,701       | 1.84%\n",
       "1975 | 71,247,153       | 2.69%\n",
       "1980 | 81,364,176       | 2.71%\n",
       "1985 | 93,015,182       | 2.64%\n",
       "1990 | 105,983,136      | 2.25%\n",
       "1995 | 118,427,768      | 2.08%\n",
       "2000 | 131,280,739      | 1.71%\n",
       "2005 | 142,929,979      | 1.19%\n",
       "2010 | 151,616,777      | 1.21%"
      ]
     },
     "execution_count": 204,
     "metadata": {},
     "output_type": "execute_result"
    }
   ],
   "source": [
    "initial = b_five.where(\"time\", are.below_or_equal_to(2010)).column(\"population_total\")\n",
    "changed = b_five.where(\"time\", are.between(1975, 2016)).column(\"population_total\")\n",
    "\n",
    "b_1970_through_2010 = b_five.where('time', are.below_or_equal_to(2010)) \n",
    "b_five_growth = b_1970_through_2010.with_column('annual_growth', (changed/initial)**0.2-1)\n",
    "b_five_growth.set_format('annual_growth', PercentFormatter)"
   ]
  },
  {
   "cell_type": "code",
   "execution_count": 205,
   "metadata": {
    "deletable": false,
    "editable": false
   },
   "outputs": [
    {
     "name": "stdout",
     "output_type": "stream",
     "text": [
      "~~~~~~~~~~~~~~~~~~~~~~~~~~~~~~~~~~~~~~~~~~~~~~~~~~~~~~~~~~~~~~~~~~~~~\n",
      "Running tests\n",
      "\n",
      "---------------------------------------------------------------------\n",
      "Test summary\n",
      "    Passed: 2\n",
      "    Failed: 0\n",
      "[ooooooooook] 100.0% passed\n",
      "\n"
     ]
    }
   ],
   "source": [
    "ok.grade(\"q1_2\");"
   ]
  },
  {
   "cell_type": "markdown",
   "metadata": {
    "deletable": false,
    "editable": false
   },
   "source": [
    "While the population has grown every five years since 1970, the annual growth rate decreased dramatically from 1985 to 2005. Let's look at some other information in order to develop a possible explanation. Run the next cell to load three additional tables of measurements about countries over time."
   ]
  },
  {
   "cell_type": "code",
   "execution_count": 206,
   "metadata": {
    "deletable": false,
    "editable": false
   },
   "outputs": [],
   "source": [
    "life_expectancy = Table.read_table('life_expectancy.csv')\n",
    "child_mortality = Table.read_table('child_mortality.csv').relabel(2, 'child_mortality_under_5_per_1000_born')\n",
    "fertility = Table.read_table('fertility.csv')"
   ]
  },
  {
   "cell_type": "markdown",
   "metadata": {
    "deletable": false,
    "editable": false
   },
   "source": [
    "The `life_expectancy` table contains a statistic that is often used to measure how long people live, called *life expectancy at birth*. This number, for a country in a given year, [does not measure how long babies born in that year are expected to live](http://blogs.worldbank.org/opendata/what-does-life-expectancy-birth-really-mean). Instead, it measures how long someone would live, on average, if the *mortality conditions* in that year persisted throughout their lifetime. These \"mortality conditions\" describe what fraction of people at each age survived the year. So, it is a way of measuring the proportion of people that are staying alive, aggregated over different age groups in the population."
   ]
  },
  {
   "cell_type": "markdown",
   "metadata": {},
   "source": [
    "Run the following cells below to see `life_expectancy`, `child_mortality`, and `fertility`. Refer back to these tables as they will be helpful for answering further questions!"
   ]
  },
  {
   "cell_type": "code",
   "execution_count": 207,
   "metadata": {},
   "outputs": [
    {
     "data": {
      "text/html": [
       "<table border=\"1\" class=\"dataframe\">\n",
       "    <thead>\n",
       "        <tr>\n",
       "            <th>geo</th> <th>time</th> <th>life_expectancy_years</th>\n",
       "        </tr>\n",
       "    </thead>\n",
       "    <tbody>\n",
       "        <tr>\n",
       "            <td>afg </td> <td>1800</td> <td>28.21                </td>\n",
       "        </tr>\n",
       "        <tr>\n",
       "            <td>afg </td> <td>1801</td> <td>28.2                 </td>\n",
       "        </tr>\n",
       "        <tr>\n",
       "            <td>afg </td> <td>1802</td> <td>28.19                </td>\n",
       "        </tr>\n",
       "        <tr>\n",
       "            <td>afg </td> <td>1803</td> <td>28.18                </td>\n",
       "        </tr>\n",
       "        <tr>\n",
       "            <td>afg </td> <td>1804</td> <td>28.17                </td>\n",
       "        </tr>\n",
       "        <tr>\n",
       "            <td>afg </td> <td>1805</td> <td>28.16                </td>\n",
       "        </tr>\n",
       "        <tr>\n",
       "            <td>afg </td> <td>1806</td> <td>28.15                </td>\n",
       "        </tr>\n",
       "        <tr>\n",
       "            <td>afg </td> <td>1807</td> <td>28.14                </td>\n",
       "        </tr>\n",
       "        <tr>\n",
       "            <td>afg </td> <td>1808</td> <td>28.13                </td>\n",
       "        </tr>\n",
       "        <tr>\n",
       "            <td>afg </td> <td>1809</td> <td>28.12                </td>\n",
       "        </tr>\n",
       "    </tbody>\n",
       "</table>\n",
       "<p>... (43847 rows omitted)</p>"
      ],
      "text/plain": [
       "geo  | time | life_expectancy_years\n",
       "afg  | 1800 | 28.21\n",
       "afg  | 1801 | 28.2\n",
       "afg  | 1802 | 28.19\n",
       "afg  | 1803 | 28.18\n",
       "afg  | 1804 | 28.17\n",
       "afg  | 1805 | 28.16\n",
       "afg  | 1806 | 28.15\n",
       "afg  | 1807 | 28.14\n",
       "afg  | 1808 | 28.13\n",
       "afg  | 1809 | 28.12\n",
       "... (43847 rows omitted)"
      ]
     },
     "execution_count": 207,
     "metadata": {},
     "output_type": "execute_result"
    }
   ],
   "source": [
    "life_expectancy"
   ]
  },
  {
   "cell_type": "code",
   "execution_count": 38,
   "metadata": {},
   "outputs": [
    {
     "data": {
      "text/html": [
       "<table border=\"1\" class=\"dataframe\">\n",
       "    <thead>\n",
       "        <tr>\n",
       "            <th>geo</th> <th>time</th> <th>child_mortality_under_5_per_1000_born</th>\n",
       "        </tr>\n",
       "    </thead>\n",
       "    <tbody>\n",
       "        <tr>\n",
       "            <td>afg </td> <td>1800</td> <td>468.6                                </td>\n",
       "        </tr>\n",
       "        <tr>\n",
       "            <td>afg </td> <td>1801</td> <td>468.6                                </td>\n",
       "        </tr>\n",
       "        <tr>\n",
       "            <td>afg </td> <td>1802</td> <td>468.6                                </td>\n",
       "        </tr>\n",
       "        <tr>\n",
       "            <td>afg </td> <td>1803</td> <td>468.6                                </td>\n",
       "        </tr>\n",
       "        <tr>\n",
       "            <td>afg </td> <td>1804</td> <td>468.6                                </td>\n",
       "        </tr>\n",
       "        <tr>\n",
       "            <td>afg </td> <td>1805</td> <td>468.6                                </td>\n",
       "        </tr>\n",
       "        <tr>\n",
       "            <td>afg </td> <td>1806</td> <td>470                                  </td>\n",
       "        </tr>\n",
       "        <tr>\n",
       "            <td>afg </td> <td>1807</td> <td>470                                  </td>\n",
       "        </tr>\n",
       "        <tr>\n",
       "            <td>afg </td> <td>1808</td> <td>470                                  </td>\n",
       "        </tr>\n",
       "        <tr>\n",
       "            <td>afg </td> <td>1809</td> <td>470                                  </td>\n",
       "        </tr>\n",
       "    </tbody>\n",
       "</table>\n",
       "<p>... (40746 rows omitted)</p>"
      ],
      "text/plain": [
       "geo  | time | child_mortality_under_5_per_1000_born\n",
       "afg  | 1800 | 468.6\n",
       "afg  | 1801 | 468.6\n",
       "afg  | 1802 | 468.6\n",
       "afg  | 1803 | 468.6\n",
       "afg  | 1804 | 468.6\n",
       "afg  | 1805 | 468.6\n",
       "afg  | 1806 | 470\n",
       "afg  | 1807 | 470\n",
       "afg  | 1808 | 470\n",
       "afg  | 1809 | 470\n",
       "... (40746 rows omitted)"
      ]
     },
     "execution_count": 38,
     "metadata": {},
     "output_type": "execute_result"
    }
   ],
   "source": [
    "child_mortality"
   ]
  },
  {
   "cell_type": "code",
   "execution_count": 39,
   "metadata": {
    "scrolled": true
   },
   "outputs": [
    {
     "data": {
      "text/html": [
       "<table border=\"1\" class=\"dataframe\">\n",
       "    <thead>\n",
       "        <tr>\n",
       "            <th>geo</th> <th>time</th> <th>children_per_woman_total_fertility</th>\n",
       "        </tr>\n",
       "    </thead>\n",
       "    <tbody>\n",
       "        <tr>\n",
       "            <td>afg </td> <td>1800</td> <td>7                                 </td>\n",
       "        </tr>\n",
       "        <tr>\n",
       "            <td>afg </td> <td>1801</td> <td>7                                 </td>\n",
       "        </tr>\n",
       "        <tr>\n",
       "            <td>afg </td> <td>1802</td> <td>7                                 </td>\n",
       "        </tr>\n",
       "        <tr>\n",
       "            <td>afg </td> <td>1803</td> <td>7                                 </td>\n",
       "        </tr>\n",
       "        <tr>\n",
       "            <td>afg </td> <td>1804</td> <td>7                                 </td>\n",
       "        </tr>\n",
       "        <tr>\n",
       "            <td>afg </td> <td>1805</td> <td>7                                 </td>\n",
       "        </tr>\n",
       "        <tr>\n",
       "            <td>afg </td> <td>1806</td> <td>7                                 </td>\n",
       "        </tr>\n",
       "        <tr>\n",
       "            <td>afg </td> <td>1807</td> <td>7                                 </td>\n",
       "        </tr>\n",
       "        <tr>\n",
       "            <td>afg </td> <td>1808</td> <td>7                                 </td>\n",
       "        </tr>\n",
       "        <tr>\n",
       "            <td>afg </td> <td>1809</td> <td>7                                 </td>\n",
       "        </tr>\n",
       "    </tbody>\n",
       "</table>\n",
       "<p>... (43402 rows omitted)</p>"
      ],
      "text/plain": [
       "geo  | time | children_per_woman_total_fertility\n",
       "afg  | 1800 | 7\n",
       "afg  | 1801 | 7\n",
       "afg  | 1802 | 7\n",
       "afg  | 1803 | 7\n",
       "afg  | 1804 | 7\n",
       "afg  | 1805 | 7\n",
       "afg  | 1806 | 7\n",
       "afg  | 1807 | 7\n",
       "afg  | 1808 | 7\n",
       "afg  | 1809 | 7\n",
       "... (43402 rows omitted)"
      ]
     },
     "execution_count": 39,
     "metadata": {},
     "output_type": "execute_result"
    }
   ],
   "source": [
    "fertility"
   ]
  },
  {
   "cell_type": "markdown",
   "metadata": {
    "deletable": false,
    "editable": false
   },
   "source": [
    "**Question 3.** Perhaps population is growing more slowly because people aren't living as long. Use the `life_expectancy` table to draw a line graph with the years 1970 and later on the horizontal axis that shows how the *life expectancy at birth* has changed in Bangladesh.\n",
    "\n",
    "<!--\n",
    "BEGIN QUESTION\n",
    "name: q1_3\n",
    "manual: true\n",
    "-->\n",
    "<!-- EXPORT TO PDF -->"
   ]
  },
  {
   "cell_type": "code",
   "execution_count": 208,
   "metadata": {
    "deletable": false,
    "export_pdf": true,
    "manual_grade": true,
    "manual_problem_id": "global_pop_3"
   },
   "outputs": [
    {
     "data": {
      "image/png": "[encoded data removed]",
      "text/plain": [
       "<Figure size 432x288 with 1 Axes>"
      ]
     },
     "metadata": {},
     "output_type": "display_data"
    }
   ],
   "source": [
    "#Fill in code here\n",
    "life_expectancy_graph = life_expectancy.where(\"geo\", \"bgd\").where(\"time\", are.above_or_equal_to(1970)).plot(\"time\", \"life_expectancy_years\")\n",
    "life_expectancy_graph"
   ]
  },
  {
   "cell_type": "markdown",
   "metadata": {
    "deletable": false,
    "editable": false
   },
   "source": [
    "**Question 4.** Assuming everything else stays the same, do the trends in life expectancy in the graph above directly explain why the population growth rate decreased from 1985 to 2010 in Bangladesh? Why or why not? \n",
    "\n",
    "Hint: What happened in Bangladesh in 1991, and does that event explain the overall change in population growth rate?\n",
    "\n",
    "<!--\n",
    "BEGIN QUESTION\n",
    "name: q1_4\n",
    "manual: true\n",
    "-->\n",
    "<!-- EXPORT TO PDF -->"
   ]
  },
  {
   "cell_type": "markdown",
   "metadata": {
    "collapsed": true,
    "deletable": false,
    "export_pdf": true,
    "manual_grade": true,
    "manual_problem_id": "global_pop_4"
   },
   "source": [
    "*I think that the graph does not directly explain why the population grouwth rate decreased because the slope of the line incresing at constant rate that means Bangladeshis live longer in life which cause the population increasing in those years. According to wikipedia: \"https://en.wikipedia.org/wiki/1991_Bangladesh_cyclone\". In 1991, A big storm went through Bangladesh and leave the big damage with a lot of people died which evidently decreased the life expectancy in Bangladesh. So, Hurricane is not only factor of decreasing population rate but it is the reason to make it.*"
   ]
  },
  {
   "cell_type": "markdown",
   "metadata": {
    "deletable": false,
    "editable": false
   },
   "source": [
    "The `fertility` table contains a statistic that is often used to measure how many babies are being born, the *total fertility rate*. This number describes the [number of children a woman would have in her lifetime](https://www.measureevaluation.org/prh/rh_indicators/specific/fertility/total-fertility-rate), on average, if the current rates of birth by age of the mother persisted throughout her child bearing years, assuming she survived through age 49. "
   ]
  },
  {
   "cell_type": "markdown",
   "metadata": {
    "deletable": false,
    "editable": false
   },
   "source": [
    "**Question 5.** Write a function `fertility_over_time` that takes the Alpha-3 code of a `country` and a `start` year. It returns a two-column table with labels `Year` and `Children per woman` that can be used to generate a line chart of the country's fertility rate each year, starting at the `start` year. The plot should include the `start` year and all later years that appear in the `fertility` table. \n",
    "\n",
    "Then, in the next cell, call your `fertility_over_time` function on the Alpha-3 code for Bangladesh and the year 1970 in order to plot how Bangladesh's fertility rate has changed since 1970. Note that the function `fertility_over_time` should not return the plot itself. **The expression that draws the line plot is provided for you; please don't change it.**\n",
    "\n",
    "<!--\n",
    "BEGIN QUESTION\n",
    "name: q1_5\n",
    "-->"
   ]
  },
  {
   "cell_type": "code",
   "execution_count": 209,
   "metadata": {
    "deletable": false
   },
   "outputs": [
    {
     "data": {
      "image/png": "[encoded data removed]",
      "text/plain": [
       "<Figure size 432x288 with 1 Axes>"
      ]
     },
     "metadata": {},
     "output_type": "display_data"
    }
   ],
   "source": [
    "def fertility_over_time(country, start):\n",
    "    \"\"\"Create a two-column table that describes a country's total fertility rate each year.\"\"\"\n",
    "    country_fertility = fertility.where(\"geo\", country).where(\"time\", are.above(start - 1))\n",
    "    country_fertility_after_start = country_fertility.relabeled(\"time\", \"Year\").relabeled(\"children_per_woman_total_fertility\",\"Children per woman\")\n",
    "    country_fertility_after_start = country_fertility_after_start.drop(\"geo\")\n",
    "    return country_fertility_after_start\n",
    "bangladesh_code = \"bgd\"\n",
    "fertility_over_time(bangladesh_code, 1970).plot(0, 1) # You should *not* change this line."
   ]
  },
  {
   "cell_type": "code",
   "execution_count": 42,
   "metadata": {
    "deletable": false,
    "editable": false
   },
   "outputs": [
    {
     "name": "stdout",
     "output_type": "stream",
     "text": [
      "~~~~~~~~~~~~~~~~~~~~~~~~~~~~~~~~~~~~~~~~~~~~~~~~~~~~~~~~~~~~~~~~~~~~~\n",
      "Running tests\n",
      "\n",
      "---------------------------------------------------------------------\n",
      "Test summary\n",
      "    Passed: 3\n",
      "    Failed: 0\n",
      "[ooooooooook] 100.0% passed\n",
      "\n"
     ]
    }
   ],
   "source": [
    "ok.grade(\"q1_5\");"
   ]
  },
  {
   "cell_type": "markdown",
   "metadata": {
    "deletable": false,
    "editable": false
   },
   "source": [
    "**Question 6.** Assuming everything else is constant, do the trends in fertility in the graph above help directly explain why the population growth rate decreased from 1985 to 2010 in Bangladesh? Why or why not?\n",
    "\n",
    "<!--\n",
    "BEGIN QUESTION\n",
    "name: q1_6\n",
    "manual: true\n",
    "-->\n",
    "<!-- EXPORT TO PDF -->"
   ]
  },
  {
   "cell_type": "markdown",
   "metadata": {
    "deletable": false,
    "export_pdf": true,
    "manual_grade": true,
    "manual_problem_id": "global_pop_6"
   },
   "source": [
    "*Yes, it is. Children per woman is the way to help directly explain why the population growth rate decreased from 1985 to 2010 in Bangladesh because the rate of column Children per woman is drecrease that mean if children were less born then effect the population growth rate When assuming everything else is constant.*"
   ]
  },
  {
   "cell_type": "markdown",
   "metadata": {
    "deletable": false,
    "editable": false
   },
   "source": [
    "It has been observed that lower fertility rates are often associated with lower child mortality rates. The link has been attributed to family planning: if parents can expect that their children will all survive into adulthood, then they will choose to have fewer children. We can see if this association is evident in Bangladesh by plotting the relationship between total fertility rate and [child mortality rate per 1000 children](https://en.wikipedia.org/wiki/Child_mortality)."
   ]
  },
  {
   "cell_type": "markdown",
   "metadata": {
    "deletable": false,
    "editable": false
   },
   "source": [
    "**Question 7.** Using both the `fertility` and `child_mortality` tables, draw a scatter diagram that has Bangladesh's total fertility on the horizontal axis and its child mortality on the vertical axis with one point for each year, starting with 1970.\n",
    "\n",
    "**The expression that draws the scatter diagram is provided for you; please don't change it.** Instead, create a table called `post_1969_fertility_and_child_mortality` with the appropriate column labels and data in order to generate the chart correctly. Use the label `Children per woman` to describe total fertility and the label `Child deaths per 1000 born` to describe child mortality.\n",
    "\n",
    "<!--\n",
    "BEGIN QUESTION\n",
    "name: q1_7\n",
    "manual: false\n",
    "-->"
   ]
  },
  {
   "cell_type": "code",
   "execution_count": 210,
   "metadata": {
    "deletable": false
   },
   "outputs": [
    {
     "data": {
      "image/png": "[encoded data removed]",
      "text/plain": [
       "<Figure size 360x360 with 1 Axes>"
      ]
     },
     "metadata": {},
     "output_type": "display_data"
    }
   ],
   "source": [
    "bgd_fertility = fertility.where(\"geo\", \"bgd\").drop(\"geo\").relabeled('children_per_woman_total_fertility','Children per woman')\n",
    "\n",
    "bgd_child_mortality = child_mortality.where(\"geo\", \"bgd\").drop(\"geo\").relabeled('child_mortality_under_5_per_1000_born','Child deaths per 1000 born')\n",
    "\n",
    "fertility_and_child_mortality = bgd_fertility.join('time', bgd_child_mortality,'time')\n",
    "\n",
    "post_1969_fertility_and_child_mortality = fertility_and_child_mortality.where(\"time\", are.above(1969))\n",
    "\n",
    "post_1969_fertility_and_child_mortality.scatter('Children per woman', 'Child deaths per 1000 born') # You should *not* change this line.\n"
   ]
  },
  {
   "cell_type": "code",
   "execution_count": 64,
   "metadata": {
    "deletable": false,
    "editable": false
   },
   "outputs": [
    {
     "name": "stdout",
     "output_type": "stream",
     "text": [
      "~~~~~~~~~~~~~~~~~~~~~~~~~~~~~~~~~~~~~~~~~~~~~~~~~~~~~~~~~~~~~~~~~~~~~\n",
      "Running tests\n",
      "\n",
      "---------------------------------------------------------------------\n",
      "Test summary\n",
      "    Passed: 2\n",
      "    Failed: 0\n",
      "[ooooooooook] 100.0% passed\n",
      "\n"
     ]
    }
   ],
   "source": [
    "ok.grade(\"q1_7\");"
   ]
  },
  {
   "cell_type": "markdown",
   "metadata": {
    "deletable": false,
    "editable": false
   },
   "source": [
    "**Question 8.** In one or two sentences, describe the association (if any) that is illustrated by this scatter diagram. Does the diagram show that reduced child mortality causes parents to choose to have fewer children?\n",
    "\n",
    "<!--\n",
    "BEGIN QUESTION\n",
    "name: q1_8\n",
    "manual: true\n",
    "-->\n",
    "<!-- EXPORT TO PDF -->"
   ]
  },
  {
   "cell_type": "markdown",
   "metadata": {
    "deletable": false,
    "export_pdf": true,
    "manual_grade": true,
    "manual_problem_id": "global_pop_8"
   },
   "source": [
    "*Looking at the diagram, I think there is a proportionality aspect between child_mortality b ad fertilitybecause the graph is roughly linear. However, we could not say that reduced child mortility lead to woman would have fewer children. *"
   ]
  },
  {
   "cell_type": "markdown",
   "metadata": {},
   "source": [
    "### Checkpoint (due Friday 2/21)\n",
    "#### Congratulations, you have reached the checkpoint! Run the submit cell below to generate the checkpoint submission."
   ]
  },
  {
   "cell_type": "code",
   "execution_count": 65,
   "metadata": {},
   "outputs": [
    {
     "data": {
      "application/javascript": [
       "IPython.notebook.save_checkpoint();"
      ],
      "text/plain": [
       "<IPython.core.display.Javascript object>"
      ]
     },
     "metadata": {},
     "output_type": "display_data"
    },
    {
     "data": {
      "application/javascript": [
       "IPython.notebook.save_notebook();"
      ],
      "text/plain": [
       "<IPython.core.display.Javascript object>"
      ]
     },
     "metadata": {},
     "output_type": "display_data"
    },
    {
     "name": "stdout",
     "output_type": "stream",
     "text": [
      "Saving notebook... Saved 'project1.ipynb'.\n",
      "Performing authentication\n",
      "Please enter your bCourses email.\n",
      "bCourses email: huyennguyen@berkeley.edu\n",
      "\n",
      "Copy the following URL and open it in a web browser. To copy,\n",
      "highlight the URL, right-click, and select \"Copy\".\n",
      "\n",
      "https://okpy.org/client/login/\n",
      "\n",
      "After logging in, copy the code from the web page, paste it below,\n",
      "and press Enter. To paste, right-click and select \"Paste\".\n",
      "\n",
      "Paste your code here: JIfO8EFVV1RobvGCD8KvIRer04PKdT\n",
      "Successfully logged in as huyennguyen@berkeley.edu\n",
      "Submit... 100% complete\n",
      "Submission successful for user: huyennguyen@berkeley.edu\n",
      "URL: https://okpy.org/cal/data8/sp20/project1/submissions/16J48V\n",
      "\n"
     ]
    }
   ],
   "source": [
    "_ = ok.submit()"
   ]
  },
  {
   "cell_type": "markdown",
   "metadata": {
    "deletable": false,
    "editable": false
   },
   "source": [
    "### The World\n",
    "\n",
    "The change observed in Bangladesh since 1970 can also be observed in many other developing countries: health services improve, life expectancy increases, and child mortality decreases. At the same time, the fertility rate often plummets, and so the population growth rate decreases despite increasing longevity."
   ]
  },
  {
   "cell_type": "markdown",
   "metadata": {
    "deletable": false,
    "editable": false
   },
   "source": [
    "Run the cell below to generate two overlaid histograms, one for 1960 and one for 2010, that show the distributions of total fertility rates for these two years among all 201 countries in the `fertility` table."
   ]
  },
  {
   "cell_type": "code",
   "execution_count": 251,
   "metadata": {
    "deletable": false
   },
   "outputs": [
    {
     "data": {
      "image/png": "[encoded data removed]",
      "text/plain": [
       "<Figure size 432x288 with 1 Axes>"
      ]
     },
     "metadata": {},
     "output_type": "display_data"
    }
   ],
   "source": [
    "Table().with_columns(\n",
    "    '1960', fertility.where('time', 1960).column(2),\n",
    "    '2010', fertility.where('time', 2010).column(2)\n",
    ").hist(bins=np.arange(0, 10, 0.5), unit='child per woman')\n",
    "_ = plots.xlabel('Children per woman')\n",
    "_ = plots.ylabel('Percent per children per woman')\n",
    "_ = plots.xticks(np.arange(10))"
   ]
  },
  {
   "cell_type": "markdown",
   "metadata": {
    "deletable": false,
    "editable": false
   },
   "source": [
    "**Question 9.** Assign `fertility_statements` to an array of the numbers of each statement below that can be correctly inferred from these histograms.\n",
    "1. About the same number of countries had a fertility rate between 3.5 and 4.5 in both 1960 and 2010.\n",
    "1. In 2010, about 40% of countries had a fertility rate between 1.5 and 2.\n",
    "1. In 1960, less than 20% of countries had a fertility rate below 3.\n",
    "1. More countries had a fertility rate above 3 in 1960 than in 2010.\n",
    "1. At least half of countries had a fertility rate between 5 and 8 in 1960.\n",
    "1. At least half of countries had a fertility rate below 3 in 2010.\n",
    "\n",
    "<!--\n",
    "BEGIN QUESTION\n",
    "name: q1_9\n",
    "-->"
   ]
  },
  {
   "cell_type": "code",
   "execution_count": 252,
   "metadata": {
    "deletable": false
   },
   "outputs": [],
   "source": [
    "fertility_statements = 3,4,5,6"
   ]
  },
  {
   "cell_type": "code",
   "execution_count": 253,
   "metadata": {
    "deletable": false,
    "editable": false
   },
   "outputs": [
    {
     "name": "stdout",
     "output_type": "stream",
     "text": [
      "~~~~~~~~~~~~~~~~~~~~~~~~~~~~~~~~~~~~~~~~~~~~~~~~~~~~~~~~~~~~~~~~~~~~~\n",
      "Running tests\n",
      "\n",
      "---------------------------------------------------------------------\n",
      "Test summary\n",
      "    Passed: 1\n",
      "    Failed: 0\n",
      "[ooooooooook] 100.0% passed\n",
      "\n"
     ]
    }
   ],
   "source": [
    "ok.grade(\"q1_9\");"
   ]
  },
  {
   "cell_type": "markdown",
   "metadata": {
    "deletable": false,
    "editable": false
   },
   "source": [
    "**Question 10.** Draw a line plot of the world population from 1800 through 2005. The world population is the sum of all the country's populations. \n",
    "\n",
    "<!--\n",
    "BEGIN QUESTION\n",
    "name: q1_10\n",
    "manual: true\n",
    "-->\n",
    "<!-- EXPORT TO PDF -->"
   ]
  },
  {
   "cell_type": "code",
   "execution_count": 254,
   "metadata": {
    "deletable": false,
    "export_pdf": true,
    "manual_grade": true,
    "manual_problem_id": "global_pop_10"
   },
   "outputs": [
    {
     "data": {
      "image/png": "[encoded data removed]",
      "text/plain": [
       "<Figure size 432x288 with 1 Axes>"
      ]
     },
     "metadata": {},
     "output_type": "display_data"
    }
   ],
   "source": [
    "#Fill in code here\n",
    "population.where(\"time\", are.between(1800, 2006)).group(\"time\", sum).plot(\"time\", \"population_total sum\")"
   ]
  },
  {
   "cell_type": "markdown",
   "metadata": {
    "deletable": false,
    "editable": false
   },
   "source": [
    "**Question 11.** Create a function `stats_for_year` that takes a `year` and returns a table of statistics. The table it returns should have four columns: `geo`, `population_total`, `children_per_woman_total_fertility`, and `child_mortality_under_5_per_1000_born`. Each row should contain one Alpha-3 country code and three statistics: population, fertility rate, and child mortality for that `year` from the `population`, `fertility` and `child_mortality` tables. Only include rows for which all three statistics are available for the country and year.\n",
    "\n",
    "In addition, restrict the result to country codes that appears in `big_50`, an array of the 50 most populous countries in 2010. This restriction will speed up computations later in the project.\n",
    "\n",
    "After you write `stats_for_year`, try calling `stats_for_year` on any year between 1960 and 2010. Try to understand the output of stats_for_year.\n",
    "\n",
    "*Hint*: The tests for this question are quite comprehensive, so if you pass the tests, your function is probably correct. However, without calling your function yourself and looking at the output, it will be very difficult to understand any problems you have, so try your best to write the function correctly and check that it works before you rely on the `ok` tests to confirm your work.\n",
    "\n",
    "<!--\n",
    "BEGIN QUESTION\n",
    "name: q1_11\n",
    "manual: false\n",
    "-->"
   ]
  },
  {
   "cell_type": "code",
   "execution_count": 255,
   "metadata": {
    "deletable": false
   },
   "outputs": [
    {
     "data": {
      "text/html": [
       "<table border=\"1\" class=\"dataframe\">\n",
       "    <thead>\n",
       "        <tr>\n",
       "            <th>geo</th> <th>population_total</th> <th>children_per_woman_total_fertility</th> <th>child_mortality_under_5_per_1000_born</th>\n",
       "        </tr>\n",
       "    </thead>\n",
       "    <tbody>\n",
       "        <tr>\n",
       "            <td>afg </td> <td>8994793         </td> <td>7.67                              </td> <td>362.4                                </td>\n",
       "        </tr>\n",
       "        <tr>\n",
       "            <td>arg </td> <td>20619075        </td> <td>3.11                              </td> <td>73.2                                 </td>\n",
       "        </tr>\n",
       "        <tr>\n",
       "            <td>bgd </td> <td>48200702        </td> <td>6.73                              </td> <td>264.3                                </td>\n",
       "        </tr>\n",
       "        <tr>\n",
       "            <td>bra </td> <td>72493585        </td> <td>6.21                              </td> <td>171.8                                </td>\n",
       "        </tr>\n",
       "        <tr>\n",
       "            <td>can </td> <td>17909232        </td> <td>3.91                              </td> <td>32.6                                 </td>\n",
       "        </tr>\n",
       "        <tr>\n",
       "            <td>chn </td> <td>644450173       </td> <td>3.99                              </td> <td>309                                  </td>\n",
       "        </tr>\n",
       "        <tr>\n",
       "            <td>cod </td> <td>15248246        </td> <td>6                                 </td> <td>266                                  </td>\n",
       "        </tr>\n",
       "        <tr>\n",
       "            <td>col </td> <td>16480384        </td> <td>6.81                              </td> <td>127.3                                </td>\n",
       "        </tr>\n",
       "        <tr>\n",
       "            <td>deu </td> <td>73179665        </td> <td>2.41                              </td> <td>42.87                                </td>\n",
       "        </tr>\n",
       "        <tr>\n",
       "            <td>dza </td> <td>11124892        </td> <td>7.65                              </td> <td>245.7                                </td>\n",
       "        </tr>\n",
       "    </tbody>\n",
       "</table>\n",
       "<p>... (40 rows omitted)</p>"
      ],
      "text/plain": [
       "geo  | population_total | children_per_woman_total_fertility | child_mortality_under_5_per_1000_born\n",
       "afg  | 8994793          | 7.67                               | 362.4\n",
       "arg  | 20619075         | 3.11                               | 73.2\n",
       "bgd  | 48200702         | 6.73                               | 264.3\n",
       "bra  | 72493585         | 6.21                               | 171.8\n",
       "can  | 17909232         | 3.91                               | 32.6\n",
       "chn  | 644450173        | 3.99                               | 309\n",
       "cod  | 15248246         | 6                                  | 266\n",
       "col  | 16480384         | 6.81                               | 127.3\n",
       "deu  | 73179665         | 2.41                               | 42.87\n",
       "dza  | 11124892         | 7.65                               | 245.7\n",
       "... (40 rows omitted)"
      ]
     },
     "execution_count": 255,
     "metadata": {},
     "output_type": "execute_result"
    }
   ],
   "source": [
    "# We first create a population table that only includes the \n",
    "# 50 countries with the largest 2010 populations. We focus on \n",
    "# these 50 countries only so that plotting later will run faster.\n",
    "big_50 = population.where('time', are.equal_to(2010)).sort(\"population_total\", descending=True).take(np.arange(50)).column('geo')\n",
    "population_of_big_50 = population.where('time', are.above(1959)).where('geo', are.contained_in(big_50))\n",
    "\n",
    "def stats_for_year(year):\n",
    "    \"\"\"Return a table of the stats for each country that year.\"\"\"\n",
    "    p = population_of_big_50.where('time', are.equal_to(year)).drop('time')\n",
    "    f = fertility.where('time', are.equal_to(year)).drop('time')\n",
    "    c = child_mortality.where('time', are.equal_to(year)).drop('time')\n",
    "    return p.join('geo', f,'geo').join('geo',c,'geo')\n",
    "\n",
    "stats_for_year(1960)"
   ]
  },
  {
   "cell_type": "code",
   "execution_count": 216,
   "metadata": {
    "deletable": false,
    "editable": false
   },
   "outputs": [
    {
     "name": "stdout",
     "output_type": "stream",
     "text": [
      "~~~~~~~~~~~~~~~~~~~~~~~~~~~~~~~~~~~~~~~~~~~~~~~~~~~~~~~~~~~~~~~~~~~~~\n",
      "Running tests\n",
      "\n",
      "---------------------------------------------------------------------\n",
      "Test summary\n",
      "    Passed: 4\n",
      "    Failed: 0\n",
      "[ooooooooook] 100.0% passed\n",
      "\n"
     ]
    }
   ],
   "source": [
    "ok.grade(\"q1_11\");"
   ]
  },
  {
   "cell_type": "markdown",
   "metadata": {
    "deletable": false,
    "editable": false
   },
   "source": [
    "**Question 12.** Create a table called `pop_by_decade` with two columns called `decade` and `population`. It has a row for each `year` since 1960 that starts a decade. The `population` column contains the total population of all countries included in the result of `stats_for_year(year)` for the first `year` of the decade. For example, 1960 is the first year of the 1960's decade. You should see that these countries contain most of the world's population.\n",
    "\n",
    "*Hint:* One approach is to define a function `pop_for_year` that computes this total population, then `apply` it to the `decade` column.  The `stats_for_year` function from the previous question may be useful here.\n",
    "\n",
    "This first test is just a sanity check for your helper function if you choose to use it. You will not lose points for not implementing the function `pop_for_year`.\n",
    "\n",
    "**Note:** The cell where you will generate the `pop_by_decade` table is below the cell where you can choose to define the helper function `pop_for_year`. You should define your `pop_by_decade` table in the cell that starts with the table `decades` being defined. \n",
    "\n",
    "<!--\n",
    "BEGIN QUESTION\n",
    "name: q1_12_0\n",
    "manual: false\n",
    "points: 0\n",
    "-->"
   ]
  },
  {
   "cell_type": "code",
   "execution_count": 263,
   "metadata": {},
   "outputs": [],
   "source": [
    "def pop_for_year(year):\n",
    "    return sum(stats_for_year(year).column('population_total'))"
   ]
  },
  {
   "cell_type": "code",
   "execution_count": 264,
   "metadata": {
    "deletable": false,
    "editable": false
   },
   "outputs": [
    {
     "name": "stdout",
     "output_type": "stream",
     "text": [
      "~~~~~~~~~~~~~~~~~~~~~~~~~~~~~~~~~~~~~~~~~~~~~~~~~~~~~~~~~~~~~~~~~~~~~\n",
      "Running tests\n",
      "\n",
      "---------------------------------------------------------------------\n",
      "Test summary\n",
      "    Passed: 3\n",
      "    Failed: 0\n",
      "[ooooooooook] 100.0% passed\n",
      "\n"
     ]
    }
   ],
   "source": [
    "ok.grade(\"q1_12_0\");"
   ]
  },
  {
   "cell_type": "markdown",
   "metadata": {
    "deletable": false,
    "editable": false
   },
   "source": [
    "Now that you've defined your helper function (if you've chosen to do so), define the `pop_by_decade` table.\n",
    "\n",
    "<!--\n",
    "BEGIN QUESTION\n",
    "name: q1_12\n",
    "manual: false\n",
    "-->"
   ]
  },
  {
   "cell_type": "code",
   "execution_count": 265,
   "metadata": {},
   "outputs": [
    {
     "data": {
      "text/html": [
       "<table border=\"1\" class=\"dataframe\">\n",
       "    <thead>\n",
       "        <tr>\n",
       "            <th>decade</th> <th>population</th>\n",
       "        </tr>\n",
       "    </thead>\n",
       "    <tbody>\n",
       "        <tr>\n",
       "            <td>1960  </td> <td>2,624,944,597</td>\n",
       "        </tr>\n",
       "        <tr>\n",
       "            <td>1970  </td> <td>3,211,487,418</td>\n",
       "        </tr>\n",
       "        <tr>\n",
       "            <td>1980  </td> <td>3,880,722,003</td>\n",
       "        </tr>\n",
       "        <tr>\n",
       "            <td>1990  </td> <td>4,648,434,558</td>\n",
       "        </tr>\n",
       "        <tr>\n",
       "            <td>2000  </td> <td>5,367,553,063</td>\n",
       "        </tr>\n",
       "        <tr>\n",
       "            <td>2010  </td> <td>6,040,810,517</td>\n",
       "        </tr>\n",
       "    </tbody>\n",
       "</table>"
      ],
      "text/plain": [
       "decade | population\n",
       "1960   | 2,624,944,597\n",
       "1970   | 3,211,487,418\n",
       "1980   | 3,880,722,003\n",
       "1990   | 4,648,434,558\n",
       "2000   | 5,367,553,063\n",
       "2010   | 6,040,810,517"
      ]
     },
     "execution_count": 265,
     "metadata": {},
     "output_type": "execute_result"
    }
   ],
   "source": [
    "pop_by_decade"
   ]
  },
  {
   "cell_type": "code",
   "execution_count": 266,
   "metadata": {
    "deletable": false
   },
   "outputs": [
    {
     "data": {
      "text/html": [
       "<table border=\"1\" class=\"dataframe\">\n",
       "    <thead>\n",
       "        <tr>\n",
       "            <th>decade</th> <th>population</th>\n",
       "        </tr>\n",
       "    </thead>\n",
       "    <tbody>\n",
       "        <tr>\n",
       "            <td>1960  </td> <td>2,624,944,597</td>\n",
       "        </tr>\n",
       "        <tr>\n",
       "            <td>1970  </td> <td>3,211,487,418</td>\n",
       "        </tr>\n",
       "        <tr>\n",
       "            <td>1980  </td> <td>3,880,722,003</td>\n",
       "        </tr>\n",
       "        <tr>\n",
       "            <td>1990  </td> <td>4,648,434,558</td>\n",
       "        </tr>\n",
       "        <tr>\n",
       "            <td>2000  </td> <td>5,367,553,063</td>\n",
       "        </tr>\n",
       "        <tr>\n",
       "            <td>2010  </td> <td>6,040,810,517</td>\n",
       "        </tr>\n",
       "    </tbody>\n",
       "</table>"
      ],
      "text/plain": [
       "decade | population\n",
       "1960   | 2,624,944,597\n",
       "1970   | 3,211,487,418\n",
       "1980   | 3,880,722,003\n",
       "1990   | 4,648,434,558\n",
       "2000   | 5,367,553,063\n",
       "2010   | 6,040,810,517"
      ]
     },
     "execution_count": 266,
     "metadata": {},
     "output_type": "execute_result"
    }
   ],
   "source": [
    "decades = Table().with_column('decade', np.arange(1960, 2011, 10))\n",
    "\n",
    "pop_by_decade = decades.with_column('population', decades.apply(pop_for_year, 'decade'))\n",
    "pop_by_decade.set_format(1, NumberFormatter)"
   ]
  },
  {
   "cell_type": "code",
   "execution_count": 267,
   "metadata": {
    "deletable": false,
    "editable": false
   },
   "outputs": [
    {
     "name": "stdout",
     "output_type": "stream",
     "text": [
      "~~~~~~~~~~~~~~~~~~~~~~~~~~~~~~~~~~~~~~~~~~~~~~~~~~~~~~~~~~~~~~~~~~~~~\n",
      "Running tests\n",
      "\n",
      "---------------------------------------------------------------------\n",
      "Test summary\n",
      "    Passed: 2\n",
      "    Failed: 0\n",
      "[ooooooooook] 100.0% passed\n",
      "\n"
     ]
    }
   ],
   "source": [
    "ok.grade(\"q1_12\");"
   ]
  },
  {
   "cell_type": "markdown",
   "metadata": {
    "deletable": false,
    "editable": false
   },
   "source": [
    "The `countries` table describes various characteristics of countries. The `country` column contains the same codes as the `geo` column in each of the other data tables (`population`, `fertility`, and `child_mortality`). The `world_6region` column classifies each country into a region of the world. Run the cell below to inspect the data."
   ]
  },
  {
   "cell_type": "code",
   "execution_count": 268,
   "metadata": {},
   "outputs": [
    {
     "data": {
      "text/html": [
       "<table border=\"1\" class=\"dataframe\">\n",
       "    <thead>\n",
       "        <tr>\n",
       "            <th>country</th> <th>name</th> <th>world_6region</th>\n",
       "        </tr>\n",
       "    </thead>\n",
       "    <tbody>\n",
       "        <tr>\n",
       "            <td>afg      </td> <td>Afghanistan          </td> <td>south_asia              </td>\n",
       "        </tr>\n",
       "        <tr>\n",
       "            <td>akr_a_dhe</td> <td>Akrotiri and Dhekelia</td> <td>europe_central_asia     </td>\n",
       "        </tr>\n",
       "        <tr>\n",
       "            <td>alb      </td> <td>Albania              </td> <td>europe_central_asia     </td>\n",
       "        </tr>\n",
       "        <tr>\n",
       "            <td>dza      </td> <td>Algeria              </td> <td>middle_east_north_africa</td>\n",
       "        </tr>\n",
       "        <tr>\n",
       "            <td>asm      </td> <td>American Samoa       </td> <td>east_asia_pacific       </td>\n",
       "        </tr>\n",
       "        <tr>\n",
       "            <td>and      </td> <td>Andorra              </td> <td>europe_central_asia     </td>\n",
       "        </tr>\n",
       "        <tr>\n",
       "            <td>ago      </td> <td>Angola               </td> <td>sub_saharan_africa      </td>\n",
       "        </tr>\n",
       "        <tr>\n",
       "            <td>aia      </td> <td>Anguilla             </td> <td>america                 </td>\n",
       "        </tr>\n",
       "        <tr>\n",
       "            <td>atg      </td> <td>Antigua and Barbuda  </td> <td>america                 </td>\n",
       "        </tr>\n",
       "        <tr>\n",
       "            <td>arg      </td> <td>Argentina            </td> <td>america                 </td>\n",
       "        </tr>\n",
       "    </tbody>\n",
       "</table>\n",
       "<p>... (245 rows omitted)</p>"
      ],
      "text/plain": [
       "country   | name                  | world_6region\n",
       "afg       | Afghanistan           | south_asia\n",
       "akr_a_dhe | Akrotiri and Dhekelia | europe_central_asia\n",
       "alb       | Albania               | europe_central_asia\n",
       "dza       | Algeria               | middle_east_north_africa\n",
       "asm       | American Samoa        | east_asia_pacific\n",
       "and       | Andorra               | europe_central_asia\n",
       "ago       | Angola                | sub_saharan_africa\n",
       "aia       | Anguilla              | america\n",
       "atg       | Antigua and Barbuda   | america\n",
       "arg       | Argentina             | america\n",
       "... (245 rows omitted)"
      ]
     },
     "execution_count": 268,
     "metadata": {},
     "output_type": "execute_result"
    }
   ],
   "source": [
    "countries = Table.read_table('countries.csv').where('country', are.contained_in(population.group('geo').column('geo')))\n",
    "countries.select('country', 'name', 'world_6region')"
   ]
  },
  {
   "cell_type": "markdown",
   "metadata": {
    "deletable": false,
    "editable": false
   },
   "source": [
    "**Question 13.** Create a table called `region_counts` that has two columns, `region` and `count`. It should contain two columns: a region column and a count column that contains the number of countries in each region that appear in the result of `stats_for_year(1960)`. For example, one row would have `south_asia` as its `world_6region` value and an integer as its `count` value: the number of large South Asian countries for which we have population, fertility, and child mortality numbers from 1960.\n",
    "\n",
    "<!--\n",
    "BEGIN QUESTION\n",
    "name: q1_13\n",
    "-->"
   ]
  },
  {
   "cell_type": "code",
   "execution_count": 269,
   "metadata": {
    "deletable": false
   },
   "outputs": [
    {
     "data": {
      "text/html": [
       "<table border=\"1\" class=\"dataframe\">\n",
       "    <thead>\n",
       "        <tr>\n",
       "            <th>region</th> <th>count</th>\n",
       "        </tr>\n",
       "    </thead>\n",
       "    <tbody>\n",
       "        <tr>\n",
       "            <td>america                 </td> <td>8    </td>\n",
       "        </tr>\n",
       "        <tr>\n",
       "            <td>east_asia_pacific       </td> <td>10   </td>\n",
       "        </tr>\n",
       "        <tr>\n",
       "            <td>europe_central_asia     </td> <td>10   </td>\n",
       "        </tr>\n",
       "        <tr>\n",
       "            <td>middle_east_north_africa</td> <td>7    </td>\n",
       "        </tr>\n",
       "        <tr>\n",
       "            <td>south_asia              </td> <td>5    </td>\n",
       "        </tr>\n",
       "        <tr>\n",
       "            <td>sub_saharan_africa      </td> <td>10   </td>\n",
       "        </tr>\n",
       "    </tbody>\n",
       "</table>"
      ],
      "text/plain": [
       "region                   | count\n",
       "america                  | 8\n",
       "east_asia_pacific        | 10\n",
       "europe_central_asia      | 10\n",
       "middle_east_north_africa | 7\n",
       "south_asia               | 5\n",
       "sub_saharan_africa       | 10"
      ]
     },
     "execution_count": 269,
     "metadata": {},
     "output_type": "execute_result"
    }
   ],
   "source": [
    "region_counts = countries.join('country', stats_for_year(1960), 'geo').group('world_6region').relabeled('world_6region', 'region')\n",
    "region_counts"
   ]
  },
  {
   "cell_type": "code",
   "execution_count": 270,
   "metadata": {
    "deletable": false,
    "editable": false
   },
   "outputs": [
    {
     "name": "stdout",
     "output_type": "stream",
     "text": [
      "~~~~~~~~~~~~~~~~~~~~~~~~~~~~~~~~~~~~~~~~~~~~~~~~~~~~~~~~~~~~~~~~~~~~~\n",
      "Running tests\n",
      "\n",
      "---------------------------------------------------------------------\n",
      "Test summary\n",
      "    Passed: 2\n",
      "    Failed: 0\n",
      "[ooooooooook] 100.0% passed\n",
      "\n"
     ]
    }
   ],
   "source": [
    "ok.grade(\"q1_13\");"
   ]
  },
  {
   "cell_type": "markdown",
   "metadata": {
    "deletable": false,
    "editable": false
   },
   "source": [
    "The following scatter diagram compares total fertility rate and child mortality rate for each country in 1960. The area of each dot represents the population of the country, and the color represents its region of the world. Run the cell. Do you think you can identify any of the dots?"
   ]
  },
  {
   "cell_type": "code",
   "execution_count": 271,
   "metadata": {
    "deletable": false
   },
   "outputs": [
    {
     "data": {
      "image/png": "[encoded data removed]",
      "text/plain": [
       "<Figure size 360x360 with 1 Axes>"
      ]
     },
     "metadata": {},
     "output_type": "display_data"
    }
   ],
   "source": [
    "from functools import lru_cache as cache\n",
    "\n",
    "# This cache annotation makes sure that if the same year\n",
    "# is passed as an argument twice, the work of computing\n",
    "# the result is only carried out once.\n",
    "@cache(None)\n",
    "def stats_relabeled(year):\n",
    "    \"\"\"Relabeled and cached version of stats_for_year.\"\"\"\n",
    "    return stats_for_year(year).relabel(2, 'Children per woman').relabel(3, 'Child deaths per 1000 born')\n",
    "\n",
    "def fertility_vs_child_mortality(year):\n",
    "    \"\"\"Draw a color scatter diagram comparing child mortality and fertility.\"\"\"\n",
    "    with_region = stats_relabeled(year).join('geo', countries.select('country', 'world_6region'), 'country')\n",
    "    with_region.scatter(2, 3, sizes=1, group=4, s=500)\n",
    "    plots.xlim(0,10)\n",
    "    plots.ylim(-50, 500)\n",
    "    plots.title(year)\n",
    "\n",
    "fertility_vs_child_mortality(1960)"
   ]
  },
  {
   "cell_type": "markdown",
   "metadata": {
    "deletable": false,
    "editable": false
   },
   "source": [
    "**Question 14.** Assign `scatter_statements` to an array of the numbers of each statement below that can be inferred from this scatter diagram for 1960. \n",
    "1. As a whole, the `europe_central_asia` region had the lowest child mortality rate.\n",
    "1. The lowest child mortality rate of any country was from an `east_asia_pacific` country.\n",
    "1. Most countries had a fertility rate above 5.\n",
    "1. There was an association between child mortality and fertility.\n",
    "1. The two largest countries by population also had the two highest child mortality rate.\n",
    "\n",
    "<!--\n",
    "BEGIN QUESTION\n",
    "name: q1_14\n",
    "-->"
   ]
  },
  {
   "cell_type": "code",
   "execution_count": 272,
   "metadata": {
    "deletable": false
   },
   "outputs": [],
   "source": [
    "scatter_statements = 3,4"
   ]
  },
  {
   "cell_type": "code",
   "execution_count": 230,
   "metadata": {
    "deletable": false,
    "editable": false
   },
   "outputs": [
    {
     "name": "stdout",
     "output_type": "stream",
     "text": [
      "~~~~~~~~~~~~~~~~~~~~~~~~~~~~~~~~~~~~~~~~~~~~~~~~~~~~~~~~~~~~~~~~~~~~~\n",
      "Running tests\n",
      "\n",
      "---------------------------------------------------------------------\n",
      "Test summary\n",
      "    Passed: 1\n",
      "    Failed: 0\n",
      "[ooooooooook] 100.0% passed\n",
      "\n"
     ]
    }
   ],
   "source": [
    "ok.grade(\"q1_14\");"
   ]
  },
  {
   "cell_type": "markdown",
   "metadata": {
    "deletable": false
   },
   "source": [
    "The result of the cell below is interactive. Drag the slider to the right to see how countries have changed over time. You'll find that the great divide between so-called \"Western\" and \"developing\" countries that existed in the 1960's has nearly disappeared. This shift in fertility rates is the reason that the global population is expected to grow more slowly in the 21st century than it did in the 19th and 20th centuries.\n",
    "\n",
    "**Note:** Don't worry if a red warning pops up when running the cell below. You'll still be able to run the cell!"
   ]
  },
  {
   "cell_type": "code",
   "execution_count": 226,
   "metadata": {
    "deletable": false,
    "scrolled": false
   },
   "outputs": [
    {
     "data": {
      "application/vnd.jupyter.widget-view+json": {
       "model_id": "d5905c3f60264236bd85aac8db76f94b",
       "version_major": 2,
       "version_minor": 0
      },
      "text/plain": [
       "interactive(children=(IntSlider(value=1960, description='year', max=2015, min=1960), Output()), _dom_classes=(…"
      ]
     },
     "metadata": {},
     "output_type": "display_data"
    }
   ],
   "source": [
    "import ipywidgets as widgets\n",
    "\n",
    "# This part takes a few minutes to run because it \n",
    "# computes 55 tables in advance: one for each year.\n",
    "Table().with_column('Year', np.arange(1960, 2016)).apply(stats_relabeled, 'Year')\n",
    "\n",
    "_ = widgets.interact(fertility_vs_child_mortality, \n",
    "                     year=widgets.IntSlider(min=1960, max=2015, value=1960))"
   ]
  },
  {
   "cell_type": "markdown",
   "metadata": {
    "deletable": false,
    "editable": false
   },
   "source": [
    "Now is a great time to take a break and watch the same data presented by [Hans Rosling in a 2010 TEDx talk](https://www.gapminder.org/videos/reducing-child-mortality-a-moral-and-environmental-imperative) with smoother animation and witty commentary."
   ]
  },
  {
   "cell_type": "markdown",
   "metadata": {
    "deletable": false,
    "editable": false
   },
   "source": [
    "## 2. Global Poverty\n"
   ]
  },
  {
   "cell_type": "markdown",
   "metadata": {
    "deletable": false,
    "editable": false
   },
   "source": [
    "In 1800, 85% of the world's 1 billion people lived in *extreme poverty*, defined by the United Nations as \"a condition characterized by severe deprivation of basic human needs, including food, safe drinking water, sanitation facilities, health, shelter, education and information.\" A common measure of extreme poverty is a person living on less than \\$1.25 per day.\n",
    "\n",
    "In 2018, the proportion of people living in extreme poverty was estimated to be 8%. Although the world rate of extreme poverty has declined consistently for hundreds of years, the number of people living in extreme poverty is still over 600 million. The United Nations recently adopted an [ambitious goal](http://www.un.org/sustainabledevelopment/poverty/): \"By 2030, eradicate extreme poverty for all people everywhere.\"\n",
    "In this section, we will examine extreme poverty trends around the world."
   ]
  },
  {
   "cell_type": "markdown",
   "metadata": {
    "deletable": false,
    "editable": false
   },
   "source": [
    "First, load the population and poverty rate by country and year and the country descriptions. While the `population` table has values for every recent year for many countries, the `poverty` table only includes certain years for each country in which a measurement of the rate of extreme poverty was available."
   ]
  },
  {
   "cell_type": "code",
   "execution_count": 273,
   "metadata": {},
   "outputs": [
    {
     "data": {
      "text/html": [
       "<table border=\"1\" class=\"dataframe\">\n",
       "    <thead>\n",
       "        <tr>\n",
       "            <th>geo</th> <th>time</th> <th>extreme_poverty_percent_people_below_125_a_day</th>\n",
       "        </tr>\n",
       "    </thead>\n",
       "    <tbody>\n",
       "        <tr>\n",
       "            <td>alb </td> <td>1996</td> <td>0.2                                           </td>\n",
       "        </tr>\n",
       "        <tr>\n",
       "            <td>alb </td> <td>2002</td> <td>0.73                                          </td>\n",
       "        </tr>\n",
       "        <tr>\n",
       "            <td>alb </td> <td>2004</td> <td>0.53                                          </td>\n",
       "        </tr>\n",
       "    </tbody>\n",
       "</table>\n",
       "<p>... (1096 rows omitted)</p>"
      ],
      "text/plain": [
       "<IPython.core.display.HTML object>"
      ]
     },
     "metadata": {},
     "output_type": "display_data"
    },
    {
     "data": {
      "text/html": [
       "<table border=\"1\" class=\"dataframe\">\n",
       "    <thead>\n",
       "        <tr>\n",
       "            <th>geo</th> <th>time</th> <th>population_total</th>\n",
       "        </tr>\n",
       "    </thead>\n",
       "    <tbody>\n",
       "        <tr>\n",
       "            <td>abw </td> <td>1800</td> <td>19286           </td>\n",
       "        </tr>\n",
       "        <tr>\n",
       "            <td>abw </td> <td>1801</td> <td>19286           </td>\n",
       "        </tr>\n",
       "        <tr>\n",
       "            <td>abw </td> <td>1802</td> <td>19286           </td>\n",
       "        </tr>\n",
       "    </tbody>\n",
       "</table>\n",
       "<p>... (87792 rows omitted)</p>"
      ],
      "text/plain": [
       "<IPython.core.display.HTML object>"
      ]
     },
     "metadata": {},
     "output_type": "display_data"
    }
   ],
   "source": [
    "population = Table.read_table('population.csv')\n",
    "countries = Table.read_table('countries.csv').where('country', are.contained_in(population.group('geo').column('geo')))\n",
    "poverty = Table.read_table('poverty.csv')\n",
    "poverty.show(3)\n",
    "population.show(3)"
   ]
  },
  {
   "cell_type": "markdown",
   "metadata": {
    "deletable": false,
    "editable": false
   },
   "source": [
    "**Question 1.** Assign `latest_poverty` to a three-column table with one row for each country that appears in the `poverty` table. The first column should contain the 3-letter code for the country. The second column should contain the most recent year for which an extreme poverty rate is available for the country. The third column should contain the poverty rate in that year. **Do not change the last line, so that the labels of your table are set correctly.**\n",
    "\n",
    "*Hint*: think about how ```group``` works: it does a sequential search of the table (from top to bottom) and collects values in the array in the order in which they appear, and then applies a function to that array. The `first` function may be helpful, but you are not required to use it.\n",
    "\n",
    "<!--\n",
    "BEGIN QUESTION\n",
    "name: q2_1\n",
    "-->"
   ]
  },
  {
   "cell_type": "code",
   "execution_count": 274,
   "metadata": {
    "deletable": false
   },
   "outputs": [
    {
     "data": {
      "text/html": [
       "<table border=\"1\" class=\"dataframe\">\n",
       "    <thead>\n",
       "        <tr>\n",
       "            <th>geo</th> <th>time</th> <th>poverty_percent</th>\n",
       "        </tr>\n",
       "    </thead>\n",
       "    <tbody>\n",
       "        <tr>\n",
       "            <td>ago </td> <td>2009</td> <td>43.37          </td>\n",
       "        </tr>\n",
       "        <tr>\n",
       "            <td>alb </td> <td>2012</td> <td>0.46           </td>\n",
       "        </tr>\n",
       "        <tr>\n",
       "            <td>arg </td> <td>2011</td> <td>1.41           </td>\n",
       "        </tr>\n",
       "        <tr>\n",
       "            <td>arm </td> <td>2012</td> <td>1.75           </td>\n",
       "        </tr>\n",
       "        <tr>\n",
       "            <td>aus </td> <td>2003</td> <td>1.36           </td>\n",
       "        </tr>\n",
       "        <tr>\n",
       "            <td>aut </td> <td>2004</td> <td>0.34           </td>\n",
       "        </tr>\n",
       "        <tr>\n",
       "            <td>aze </td> <td>2008</td> <td>0.31           </td>\n",
       "        </tr>\n",
       "        <tr>\n",
       "            <td>bdi </td> <td>2006</td> <td>81.32          </td>\n",
       "        </tr>\n",
       "        <tr>\n",
       "            <td>bel </td> <td>2000</td> <td>0.5            </td>\n",
       "        </tr>\n",
       "        <tr>\n",
       "            <td>ben </td> <td>2012</td> <td>51.61          </td>\n",
       "        </tr>\n",
       "    </tbody>\n",
       "</table>\n",
       "<p>... (135 rows omitted)</p>"
      ],
      "text/plain": [
       "geo  | time | poverty_percent\n",
       "ago  | 2009 | 43.37\n",
       "alb  | 2012 | 0.46\n",
       "arg  | 2011 | 1.41\n",
       "arm  | 2012 | 1.75\n",
       "aus  | 2003 | 1.36\n",
       "aut  | 2004 | 0.34\n",
       "aze  | 2008 | 0.31\n",
       "bdi  | 2006 | 81.32\n",
       "bel  | 2000 | 0.5\n",
       "ben  | 2012 | 51.61\n",
       "... (135 rows omitted)"
      ]
     },
     "execution_count": 274,
     "metadata": {},
     "output_type": "execute_result"
    }
   ],
   "source": [
    "def first(values):\n",
    "    return values.item(0)\n",
    "\n",
    "latest_poverty = poverty.sort('time', descending=True).group('geo',first)\n",
    "latest_poverty = latest_poverty.relabeled(0, 'geo').relabeled(1, 'time').relabeled(2, 'poverty_percent') # You should *not* change this line.\n",
    "latest_poverty"
   ]
  },
  {
   "cell_type": "code",
   "execution_count": 275,
   "metadata": {
    "deletable": false,
    "editable": false
   },
   "outputs": [
    {
     "name": "stdout",
     "output_type": "stream",
     "text": [
      "~~~~~~~~~~~~~~~~~~~~~~~~~~~~~~~~~~~~~~~~~~~~~~~~~~~~~~~~~~~~~~~~~~~~~\n",
      "Running tests\n",
      "\n",
      "---------------------------------------------------------------------\n",
      "Test summary\n",
      "    Passed: 2\n",
      "    Failed: 0\n",
      "[ooooooooook] 100.0% passed\n",
      "\n"
     ]
    }
   ],
   "source": [
    "ok.grade(\"q2_1\");"
   ]
  },
  {
   "cell_type": "markdown",
   "metadata": {
    "deletable": false,
    "editable": false
   },
   "source": [
    "**Question 2.** Using both `latest_poverty` and `population`, create a four-column table called `recent_poverty_total` with one row for each country in `latest_poverty`. The four columns should have the following labels and contents, in the following order:\n",
    "1. `geo` contains the 3-letter country code,\n",
    "1. `poverty_percent` contains the most recent poverty percent,\n",
    "1. `population_total` contains the population of the country in 2010,\n",
    "1. `poverty_total` contains the number of people in poverty **rounded to the nearest integer**, based on the 2010 population and most recent poverty rate.\n",
    "\n",
    "<!--\n",
    "BEGIN QUESTION\n",
    "name: q2_2\n",
    "-->"
   ]
  },
  {
   "cell_type": "code",
   "execution_count": 276,
   "metadata": {
    "scrolled": true
   },
   "outputs": [
    {
     "data": {
      "text/html": [
       "<table border=\"1\" class=\"dataframe\">\n",
       "    <thead>\n",
       "        <tr>\n",
       "            <th>geo</th> <th>time</th> <th>population_total</th>\n",
       "        </tr>\n",
       "    </thead>\n",
       "    <tbody>\n",
       "        <tr>\n",
       "            <td>abw </td> <td>1800</td> <td>19286           </td>\n",
       "        </tr>\n",
       "        <tr>\n",
       "            <td>abw </td> <td>1801</td> <td>19286           </td>\n",
       "        </tr>\n",
       "        <tr>\n",
       "            <td>abw </td> <td>1802</td> <td>19286           </td>\n",
       "        </tr>\n",
       "        <tr>\n",
       "            <td>abw </td> <td>1803</td> <td>19286           </td>\n",
       "        </tr>\n",
       "        <tr>\n",
       "            <td>abw </td> <td>1804</td> <td>19286           </td>\n",
       "        </tr>\n",
       "        <tr>\n",
       "            <td>abw </td> <td>1805</td> <td>19286           </td>\n",
       "        </tr>\n",
       "        <tr>\n",
       "            <td>abw </td> <td>1806</td> <td>19286           </td>\n",
       "        </tr>\n",
       "        <tr>\n",
       "            <td>abw </td> <td>1807</td> <td>19286           </td>\n",
       "        </tr>\n",
       "        <tr>\n",
       "            <td>abw </td> <td>1808</td> <td>19286           </td>\n",
       "        </tr>\n",
       "        <tr>\n",
       "            <td>abw </td> <td>1809</td> <td>19286           </td>\n",
       "        </tr>\n",
       "    </tbody>\n",
       "</table>\n",
       "<p>... (87785 rows omitted)</p>"
      ],
      "text/plain": [
       "geo  | time | population_total\n",
       "abw  | 1800 | 19286\n",
       "abw  | 1801 | 19286\n",
       "abw  | 1802 | 19286\n",
       "abw  | 1803 | 19286\n",
       "abw  | 1804 | 19286\n",
       "abw  | 1805 | 19286\n",
       "abw  | 1806 | 19286\n",
       "abw  | 1807 | 19286\n",
       "abw  | 1808 | 19286\n",
       "abw  | 1809 | 19286\n",
       "... (87785 rows omitted)"
      ]
     },
     "execution_count": 276,
     "metadata": {},
     "output_type": "execute_result"
    }
   ],
   "source": [
    "population"
   ]
  },
  {
   "cell_type": "code",
   "execution_count": 277,
   "metadata": {},
   "outputs": [
    {
     "data": {
      "text/plain": [
       "int"
      ]
     },
     "execution_count": 277,
     "metadata": {},
     "output_type": "execute_result"
    }
   ],
   "source": [
    "type(population.column('time').item(0))"
   ]
  },
  {
   "cell_type": "code",
   "execution_count": 278,
   "metadata": {},
   "outputs": [
    {
     "data": {
      "text/html": [
       "<table border=\"1\" class=\"dataframe\">\n",
       "    <thead>\n",
       "        <tr>\n",
       "            <th>geo</th> <th>time</th> <th>poverty_percent</th> <th>time_2</th> <th>population_total</th>\n",
       "        </tr>\n",
       "    </thead>\n",
       "    <tbody>\n",
       "        <tr>\n",
       "            <td>ago </td> <td>2009</td> <td>43.37          </td> <td>2010  </td> <td>21219954        </td>\n",
       "        </tr>\n",
       "        <tr>\n",
       "            <td>alb </td> <td>2012</td> <td>0.46           </td> <td>2010  </td> <td>2901883         </td>\n",
       "        </tr>\n",
       "        <tr>\n",
       "            <td>arg </td> <td>2011</td> <td>1.41           </td> <td>2010  </td> <td>41222875        </td>\n",
       "        </tr>\n",
       "        <tr>\n",
       "            <td>arm </td> <td>2012</td> <td>1.75           </td> <td>2010  </td> <td>2963496         </td>\n",
       "        </tr>\n",
       "        <tr>\n",
       "            <td>aus </td> <td>2003</td> <td>1.36           </td> <td>2010  </td> <td>22162863        </td>\n",
       "        </tr>\n",
       "        <tr>\n",
       "            <td>aut </td> <td>2004</td> <td>0.34           </td> <td>2010  </td> <td>8391986         </td>\n",
       "        </tr>\n",
       "        <tr>\n",
       "            <td>aze </td> <td>2008</td> <td>0.31           </td> <td>2010  </td> <td>9099893         </td>\n",
       "        </tr>\n",
       "        <tr>\n",
       "            <td>bdi </td> <td>2006</td> <td>81.32          </td> <td>2010  </td> <td>9461117         </td>\n",
       "        </tr>\n",
       "        <tr>\n",
       "            <td>bel </td> <td>2000</td> <td>0.5            </td> <td>2010  </td> <td>10929978        </td>\n",
       "        </tr>\n",
       "        <tr>\n",
       "            <td>ben </td> <td>2012</td> <td>51.61          </td> <td>2010  </td> <td>9509798         </td>\n",
       "        </tr>\n",
       "    </tbody>\n",
       "</table>\n",
       "<p>... (135 rows omitted)</p>"
      ],
      "text/plain": [
       "geo  | time | poverty_percent | time_2 | population_total\n",
       "ago  | 2009 | 43.37           | 2010   | 21219954\n",
       "alb  | 2012 | 0.46            | 2010   | 2901883\n",
       "arg  | 2011 | 1.41            | 2010   | 41222875\n",
       "arm  | 2012 | 1.75            | 2010   | 2963496\n",
       "aus  | 2003 | 1.36            | 2010   | 22162863\n",
       "aut  | 2004 | 0.34            | 2010   | 8391986\n",
       "aze  | 2008 | 0.31            | 2010   | 9099893\n",
       "bdi  | 2006 | 81.32           | 2010   | 9461117\n",
       "bel  | 2000 | 0.5             | 2010   | 10929978\n",
       "ben  | 2012 | 51.61           | 2010   | 9509798\n",
       "... (135 rows omitted)"
      ]
     },
     "execution_count": 278,
     "metadata": {},
     "output_type": "execute_result"
    }
   ],
   "source": [
    "latest_poverty.join('geo',population).where('time_2', are.equal_to(2010))"
   ]
  },
  {
   "cell_type": "code",
   "execution_count": 279,
   "metadata": {
    "deletable": false
   },
   "outputs": [
    {
     "data": {
      "text/html": [
       "<table border=\"1\" class=\"dataframe\">\n",
       "    <thead>\n",
       "        <tr>\n",
       "            <th>geo</th> <th>poverty_percent</th> <th>population_total</th> <th>poverty_total</th>\n",
       "        </tr>\n",
       "    </thead>\n",
       "    <tbody>\n",
       "        <tr>\n",
       "            <td>ago </td> <td>43.37          </td> <td>21219954        </td> <td>9.20309e+06  </td>\n",
       "        </tr>\n",
       "        <tr>\n",
       "            <td>alb </td> <td>0.46           </td> <td>2901883         </td> <td>13349        </td>\n",
       "        </tr>\n",
       "        <tr>\n",
       "            <td>arg </td> <td>1.41           </td> <td>41222875        </td> <td>581243       </td>\n",
       "        </tr>\n",
       "        <tr>\n",
       "            <td>arm </td> <td>1.75           </td> <td>2963496         </td> <td>51861        </td>\n",
       "        </tr>\n",
       "        <tr>\n",
       "            <td>aus </td> <td>1.36           </td> <td>22162863        </td> <td>301415       </td>\n",
       "        </tr>\n",
       "        <tr>\n",
       "            <td>aut </td> <td>0.34           </td> <td>8391986         </td> <td>28533        </td>\n",
       "        </tr>\n",
       "        <tr>\n",
       "            <td>aze </td> <td>0.31           </td> <td>9099893         </td> <td>28210        </td>\n",
       "        </tr>\n",
       "        <tr>\n",
       "            <td>bdi </td> <td>81.32          </td> <td>9461117         </td> <td>7.69378e+06  </td>\n",
       "        </tr>\n",
       "        <tr>\n",
       "            <td>bel </td> <td>0.5            </td> <td>10929978        </td> <td>54650        </td>\n",
       "        </tr>\n",
       "        <tr>\n",
       "            <td>ben </td> <td>51.61          </td> <td>9509798         </td> <td>4.90801e+06  </td>\n",
       "        </tr>\n",
       "    </tbody>\n",
       "</table>\n",
       "<p>... (135 rows omitted)</p>"
      ],
      "text/plain": [
       "geo  | poverty_percent | population_total | poverty_total\n",
       "ago  | 43.37           | 21219954         | 9.20309e+06\n",
       "alb  | 0.46            | 2901883          | 13349\n",
       "arg  | 1.41            | 41222875         | 581243\n",
       "arm  | 1.75            | 2963496          | 51861\n",
       "aus  | 1.36            | 22162863         | 301415\n",
       "aut  | 0.34            | 8391986          | 28533\n",
       "aze  | 0.31            | 9099893          | 28210\n",
       "bdi  | 81.32           | 9461117          | 7.69378e+06\n",
       "bel  | 0.5             | 10929978         | 54650\n",
       "ben  | 51.61           | 9509798          | 4.90801e+06\n",
       "... (135 rows omitted)"
      ]
     },
     "execution_count": 279,
     "metadata": {},
     "output_type": "execute_result"
    }
   ],
   "source": [
    "poverty_and_pop = latest_poverty.join('geo',population,'geo').where('time_2', are.equal_to(2010))\n",
    "recent_poverty_total = poverty_and_pop.with_column('poverty_total', np.round(poverty_and_pop.column(2) * poverty_and_pop.column(4)/100)).drop('time').drop('time_2')\n",
    "recent_poverty_total"
   ]
  },
  {
   "cell_type": "code",
   "execution_count": 280,
   "metadata": {
    "deletable": false,
    "editable": false
   },
   "outputs": [
    {
     "name": "stdout",
     "output_type": "stream",
     "text": [
      "~~~~~~~~~~~~~~~~~~~~~~~~~~~~~~~~~~~~~~~~~~~~~~~~~~~~~~~~~~~~~~~~~~~~~\n",
      "Running tests\n",
      "\n",
      "---------------------------------------------------------------------\n",
      "Test summary\n",
      "    Passed: 3\n",
      "    Failed: 0\n",
      "[ooooooooook] 100.0% passed\n",
      "\n"
     ]
    }
   ],
   "source": [
    "ok.grade(\"q2_2\");"
   ]
  },
  {
   "cell_type": "markdown",
   "metadata": {
    "deletable": false,
    "editable": false
   },
   "source": [
    "**Question 3.** Assign the name `poverty_percent` to the known percentage of the world’s 2010 population that were living in extreme poverty. Assume that the `poverty_total` numbers in the `recent_poverty_total` table describe **all** people in 2010 living in extreme poverty. You should find a number that is above the 2018 global estimate of 8%, since many country-specific poverty rates are older than 2018.\n",
    "\n",
    "*Hint*: The sum of the `population_total` column in the `recent_poverty_total` table is not the world population, because only a subset of the world's countries are included in the `recent_poverty_total` table (only some countries have known poverty rates). Use the `population` table to compute the world's 2010 total population..\n",
    "\n",
    "<!--\n",
    "BEGIN QUESTION\n",
    "name: q2_3\n",
    "-->"
   ]
  },
  {
   "cell_type": "code",
   "execution_count": 281,
   "metadata": {
    "deletable": false
   },
   "outputs": [
    {
     "data": {
      "text/plain": [
       "14.299370218520854"
      ]
     },
     "execution_count": 281,
     "metadata": {},
     "output_type": "execute_result"
    }
   ],
   "source": [
    "poverty_percent = 100*sum(recent_poverty_total.column('poverty_total'))/sum(population.where('time', 2010).column('population_total'))\n",
    "poverty_percent"
   ]
  },
  {
   "cell_type": "code",
   "execution_count": 282,
   "metadata": {
    "deletable": false,
    "editable": false
   },
   "outputs": [
    {
     "name": "stdout",
     "output_type": "stream",
     "text": [
      "~~~~~~~~~~~~~~~~~~~~~~~~~~~~~~~~~~~~~~~~~~~~~~~~~~~~~~~~~~~~~~~~~~~~~\n",
      "Running tests\n",
      "\n",
      "---------------------------------------------------------------------\n",
      "Test summary\n",
      "    Passed: 1\n",
      "    Failed: 0\n",
      "[ooooooooook] 100.0% passed\n",
      "\n"
     ]
    }
   ],
   "source": [
    "ok.grade(\"q2_3\");"
   ]
  },
  {
   "cell_type": "markdown",
   "metadata": {
    "deletable": false,
    "editable": false
   },
   "source": [
    "The `countries` table includes not only the name and region of countries, but also their positions on the globe."
   ]
  },
  {
   "cell_type": "code",
   "execution_count": 283,
   "metadata": {
    "deletable": false,
    "editable": false
   },
   "outputs": [
    {
     "data": {
      "text/html": [
       "<table border=\"1\" class=\"dataframe\">\n",
       "    <thead>\n",
       "        <tr>\n",
       "            <th>country</th> <th>name</th> <th>world_4region</th> <th>latitude</th> <th>longitude</th>\n",
       "        </tr>\n",
       "    </thead>\n",
       "    <tbody>\n",
       "        <tr>\n",
       "            <td>afg      </td> <td>Afghanistan          </td> <td>asia         </td> <td>33      </td> <td>66       </td>\n",
       "        </tr>\n",
       "        <tr>\n",
       "            <td>akr_a_dhe</td> <td>Akrotiri and Dhekelia</td> <td>europe       </td> <td>nan     </td> <td>nan      </td>\n",
       "        </tr>\n",
       "        <tr>\n",
       "            <td>alb      </td> <td>Albania              </td> <td>europe       </td> <td>41      </td> <td>20       </td>\n",
       "        </tr>\n",
       "        <tr>\n",
       "            <td>dza      </td> <td>Algeria              </td> <td>africa       </td> <td>28      </td> <td>3        </td>\n",
       "        </tr>\n",
       "        <tr>\n",
       "            <td>asm      </td> <td>American Samoa       </td> <td>asia         </td> <td>-11.056 </td> <td>-171.082 </td>\n",
       "        </tr>\n",
       "        <tr>\n",
       "            <td>and      </td> <td>Andorra              </td> <td>europe       </td> <td>42.5078 </td> <td>1.52109  </td>\n",
       "        </tr>\n",
       "        <tr>\n",
       "            <td>ago      </td> <td>Angola               </td> <td>africa       </td> <td>-12.5   </td> <td>18.5     </td>\n",
       "        </tr>\n",
       "        <tr>\n",
       "            <td>aia      </td> <td>Anguilla             </td> <td>americas     </td> <td>18.2167 </td> <td>-63.05   </td>\n",
       "        </tr>\n",
       "        <tr>\n",
       "            <td>atg      </td> <td>Antigua and Barbuda  </td> <td>americas     </td> <td>17.05   </td> <td>-61.8    </td>\n",
       "        </tr>\n",
       "        <tr>\n",
       "            <td>arg      </td> <td>Argentina            </td> <td>americas     </td> <td>-34     </td> <td>-64      </td>\n",
       "        </tr>\n",
       "    </tbody>\n",
       "</table>\n",
       "<p>... (245 rows omitted)</p>"
      ],
      "text/plain": [
       "country   | name                  | world_4region | latitude | longitude\n",
       "afg       | Afghanistan           | asia          | 33       | 66\n",
       "akr_a_dhe | Akrotiri and Dhekelia | europe        | nan      | nan\n",
       "alb       | Albania               | europe        | 41       | 20\n",
       "dza       | Algeria               | africa        | 28       | 3\n",
       "asm       | American Samoa        | asia          | -11.056  | -171.082\n",
       "and       | Andorra               | europe        | 42.5078  | 1.52109\n",
       "ago       | Angola                | africa        | -12.5    | 18.5\n",
       "aia       | Anguilla              | americas      | 18.2167  | -63.05\n",
       "atg       | Antigua and Barbuda   | americas      | 17.05    | -61.8\n",
       "arg       | Argentina             | americas      | -34      | -64\n",
       "... (245 rows omitted)"
      ]
     },
     "execution_count": 283,
     "metadata": {},
     "output_type": "execute_result"
    }
   ],
   "source": [
    "countries.select('country', 'name', 'world_4region', 'latitude', 'longitude')"
   ]
  },
  {
   "cell_type": "markdown",
   "metadata": {
    "deletable": false,
    "editable": false
   },
   "source": [
    "**Question 4.** Using both `countries` and `recent_poverty_total`, create a five-column table called `poverty_map` with one row for every country in `recent_poverty_total`.  The five columns should have the following labels and contents:\n",
    "1. `latitude` contains the country's latitude,\n",
    "1. `longitude` contains the country's longitude,\n",
    "1. `name` contains the country's name,\n",
    "1. `region` contains the country's region from the `world_4region` column of `countries`,\n",
    "1. `poverty_total` contains the country's poverty total.\n",
    "\n",
    "<!--\n",
    "BEGIN QUESTION\n",
    "name: q2_4\n",
    "-->"
   ]
  },
  {
   "cell_type": "code",
   "execution_count": 284,
   "metadata": {
    "deletable": false
   },
   "outputs": [
    {
     "data": {
      "text/html": [
       "<table border=\"1\" class=\"dataframe\">\n",
       "    <thead>\n",
       "        <tr>\n",
       "            <th>latitude</th> <th>longitude</th> <th>name</th> <th>region</th> <th>poverty_total</th>\n",
       "        </tr>\n",
       "    </thead>\n",
       "    <tbody>\n",
       "        <tr>\n",
       "            <td>-12.5   </td> <td>18.5     </td> <td>Angola    </td> <td>africa  </td> <td>9.20309e+06  </td>\n",
       "        </tr>\n",
       "        <tr>\n",
       "            <td>41      </td> <td>20       </td> <td>Albania   </td> <td>europe  </td> <td>13349        </td>\n",
       "        </tr>\n",
       "        <tr>\n",
       "            <td>-34     </td> <td>-64      </td> <td>Argentina </td> <td>americas</td> <td>581243       </td>\n",
       "        </tr>\n",
       "        <tr>\n",
       "            <td>40.25   </td> <td>45       </td> <td>Armenia   </td> <td>europe  </td> <td>51861        </td>\n",
       "        </tr>\n",
       "        <tr>\n",
       "            <td>-25     </td> <td>135      </td> <td>Australia </td> <td>asia    </td> <td>301415       </td>\n",
       "        </tr>\n",
       "        <tr>\n",
       "            <td>47.3333 </td> <td>13.3333  </td> <td>Austria   </td> <td>europe  </td> <td>28533        </td>\n",
       "        </tr>\n",
       "        <tr>\n",
       "            <td>40.5    </td> <td>47.5     </td> <td>Azerbaijan</td> <td>europe  </td> <td>28210        </td>\n",
       "        </tr>\n",
       "        <tr>\n",
       "            <td>-3.5    </td> <td>30       </td> <td>Burundi   </td> <td>africa  </td> <td>7.69378e+06  </td>\n",
       "        </tr>\n",
       "        <tr>\n",
       "            <td>50.75   </td> <td>4.5      </td> <td>Belgium   </td> <td>europe  </td> <td>54650        </td>\n",
       "        </tr>\n",
       "        <tr>\n",
       "            <td>9.5     </td> <td>2.25     </td> <td>Benin     </td> <td>africa  </td> <td>4.90801e+06  </td>\n",
       "        </tr>\n",
       "    </tbody>\n",
       "</table>\n",
       "<p>... (135 rows omitted)</p>"
      ],
      "text/plain": [
       "latitude | longitude | name       | region   | poverty_total\n",
       "-12.5    | 18.5      | Angola     | africa   | 9.20309e+06\n",
       "41       | 20        | Albania    | europe   | 13349\n",
       "-34      | -64       | Argentina  | americas | 581243\n",
       "40.25    | 45        | Armenia    | europe   | 51861\n",
       "-25      | 135       | Australia  | asia     | 301415\n",
       "47.3333  | 13.3333   | Austria    | europe   | 28533\n",
       "40.5     | 47.5      | Azerbaijan | europe   | 28210\n",
       "-3.5     | 30        | Burundi    | africa   | 7.69378e+06\n",
       "50.75    | 4.5       | Belgium    | europe   | 54650\n",
       "9.5      | 2.25      | Benin      | africa   | 4.90801e+06\n",
       "... (135 rows omitted)"
      ]
     },
     "execution_count": 284,
     "metadata": {},
     "output_type": "execute_result"
    }
   ],
   "source": [
    "poverty_map = countries.join('country', recent_poverty_total, 'geo').select('latitude','longitude','name','world_4region','poverty_total').relabeled('world_4region', 'region')\n",
    "poverty_map"
   ]
  },
  {
   "cell_type": "code",
   "execution_count": 285,
   "metadata": {
    "deletable": false,
    "editable": false
   },
   "outputs": [
    {
     "name": "stdout",
     "output_type": "stream",
     "text": [
      "~~~~~~~~~~~~~~~~~~~~~~~~~~~~~~~~~~~~~~~~~~~~~~~~~~~~~~~~~~~~~~~~~~~~~\n",
      "Running tests\n",
      "\n",
      "---------------------------------------------------------------------\n",
      "Test summary\n",
      "    Passed: 2\n",
      "    Failed: 0\n",
      "[ooooooooook] 100.0% passed\n",
      "\n"
     ]
    }
   ],
   "source": [
    "ok.grade(\"q2_4\");"
   ]
  },
  {
   "cell_type": "markdown",
   "metadata": {
    "deletable": false,
    "editable": false
   },
   "source": [
    "Run the cell below to draw a map of the world in which the areas of circles represent the number of people living in extreme poverty. Double-click on the map to zoom in."
   ]
  },
  {
   "cell_type": "code",
   "execution_count": 286,
   "metadata": {
    "deletable": false,
    "editable": false
   },
   "outputs": [
    {
     "data": {
      "text/html": [
       "<div style=\"width:100%;\"><div style=\"position:relative;width:100%;height:0;padding-bottom:60%;\"><iframe src=\"about:blank\" style=\"position:absolute;width:100%;height:100%;left:0;top:0;border:none !important;\" data-html=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 onload=\"this.contentDocument.open();this.contentDocument.write(atob(this.getAttribute('data-html')));this.contentDocument.close();\" allowfullscreen webkitallowfullscreen mozallowfullscreen></iframe></div></div>"
      ],
      "text/plain": [
       "<datascience.maps.Map at 0x7f81e4d79630>"
      ]
     },
     "execution_count": 286,
     "metadata": {},
     "output_type": "execute_result"
    }
   ],
   "source": [
    "# It may take a few seconds to generate this map.\n",
    "colors = {'africa': 'blue', 'europe': 'black', 'asia': 'red', 'americas': 'green'}\n",
    "scaled = poverty_map.with_columns(\n",
    "    'poverty_total', 1e-4 * poverty_map.column('poverty_total'),\n",
    "    'region', poverty_map.apply(colors.get, 'region')\n",
    ")\n",
    "Circle.map_table(scaled)"
   ]
  },
  {
   "cell_type": "markdown",
   "metadata": {
    "deletable": false,
    "editable": false
   },
   "source": [
    "Although people live in extreme poverty throughout the world (with more than 5 million in the United States), the largest numbers are in Asia and Africa."
   ]
  },
  {
   "cell_type": "markdown",
   "metadata": {
    "deletable": false,
    "editable": false
   },
   "source": [
    "**Question 5.** Assign `largest` to a two-column table with the `name` (not the 3-letter code) and `poverty_total` of the 10 countries with the largest number of people living in extreme poverty.\n",
    "\n",
    "<!--\n",
    "BEGIN QUESTION\n",
    "name: q2_5\n",
    "-->"
   ]
  },
  {
   "cell_type": "code",
   "execution_count": 287,
   "metadata": {
    "deletable": false,
    "scrolled": true
   },
   "outputs": [
    {
     "data": {
      "text/html": [
       "<table border=\"1\" class=\"dataframe\">\n",
       "    <thead>\n",
       "        <tr>\n",
       "            <th>name</th> <th>poverty_total</th>\n",
       "        </tr>\n",
       "    </thead>\n",
       "    <tbody>\n",
       "        <tr>\n",
       "            <td>India           </td> <td>290,881,638.00</td>\n",
       "        </tr>\n",
       "        <tr>\n",
       "            <td>Nigeria         </td> <td>98,891,167.00 </td>\n",
       "        </tr>\n",
       "        <tr>\n",
       "            <td>China           </td> <td>83,944,643.00 </td>\n",
       "        </tr>\n",
       "        <tr>\n",
       "            <td>Bangladesh      </td> <td>65,574,256.00 </td>\n",
       "        </tr>\n",
       "        <tr>\n",
       "            <td>Congo, Dem. Rep.</td> <td>57,841,438.00 </td>\n",
       "        </tr>\n",
       "        <tr>\n",
       "            <td>Indonesia       </td> <td>39,141,326.00 </td>\n",
       "        </tr>\n",
       "        <tr>\n",
       "            <td>Ethiopia        </td> <td>32,213,991.00 </td>\n",
       "        </tr>\n",
       "        <tr>\n",
       "            <td>Pakistan        </td> <td>21,663,595.00 </td>\n",
       "        </tr>\n",
       "        <tr>\n",
       "            <td>Tanzania        </td> <td>19,847,979.00 </td>\n",
       "        </tr>\n",
       "        <tr>\n",
       "            <td>Madagascar      </td> <td>18,480,426.00 </td>\n",
       "        </tr>\n",
       "    </tbody>\n",
       "</table>"
      ],
      "text/plain": [
       "name             | poverty_total\n",
       "India            | 290,881,638.00\n",
       "Nigeria          | 98,891,167.00\n",
       "China            | 83,944,643.00\n",
       "Bangladesh       | 65,574,256.00\n",
       "Congo, Dem. Rep. | 57,841,438.00\n",
       "Indonesia        | 39,141,326.00\n",
       "Ethiopia         | 32,213,991.00\n",
       "Pakistan         | 21,663,595.00\n",
       "Tanzania         | 19,847,979.00\n",
       "Madagascar       | 18,480,426.00"
      ]
     },
     "execution_count": 287,
     "metadata": {},
     "output_type": "execute_result"
    }
   ],
   "source": [
    "largest = poverty_map.select('name', 'poverty_total').sort(\"poverty_total\", descending = True).take(np.arange(10))\n",
    "largest.set_format('poverty_total', NumberFormatter)"
   ]
  },
  {
   "cell_type": "code",
   "execution_count": 288,
   "metadata": {
    "deletable": false,
    "editable": false
   },
   "outputs": [
    {
     "name": "stdout",
     "output_type": "stream",
     "text": [
      "~~~~~~~~~~~~~~~~~~~~~~~~~~~~~~~~~~~~~~~~~~~~~~~~~~~~~~~~~~~~~~~~~~~~~\n",
      "Running tests\n",
      "\n",
      "---------------------------------------------------------------------\n",
      "Test summary\n",
      "    Passed: 3\n",
      "    Failed: 0\n",
      "[ooooooooook] 100.0% passed\n",
      "\n"
     ]
    }
   ],
   "source": [
    "ok.grade(\"q2_5\");"
   ]
  },
  {
   "cell_type": "markdown",
   "metadata": {
    "deletable": false
   },
   "source": [
    "**Question 6.** Write a function called `poverty_timeline` that takes **the name of a country** (not the geo code) as its argument. It should draw a line plot of the number of people living in poverty in that country with time on the horizontal axis. The line plot should have a point for each row in the `poverty` table for that country. To compute the population living in poverty from a poverty percentage, multiply by the population of the country **in that year**.\n",
    "\n",
    "*Hint:* To make your plot, you will first need to make a table.\n",
    "\n",
    "*Hint:* This question is long. Feel free to create cells and experiment. "
   ]
  },
  {
   "cell_type": "code",
   "execution_count": 289,
   "metadata": {
    "scrolled": true
   },
   "outputs": [
    {
     "data": {
      "text/html": [
       "<table border=\"1\" class=\"dataframe\">\n",
       "    <thead>\n",
       "        <tr>\n",
       "            <th>geo</th> <th>time</th> <th>extreme_poverty_percent_people_below_125_a_day</th>\n",
       "        </tr>\n",
       "    </thead>\n",
       "    <tbody>\n",
       "        <tr>\n",
       "            <td>alb </td> <td>1996</td> <td>0.2                                           </td>\n",
       "        </tr>\n",
       "        <tr>\n",
       "            <td>alb </td> <td>2002</td> <td>0.73                                          </td>\n",
       "        </tr>\n",
       "        <tr>\n",
       "            <td>alb </td> <td>2004</td> <td>0.53                                          </td>\n",
       "        </tr>\n",
       "        <tr>\n",
       "            <td>alb </td> <td>2005</td> <td>0.44                                          </td>\n",
       "        </tr>\n",
       "        <tr>\n",
       "            <td>alb </td> <td>2008</td> <td>0.2                                           </td>\n",
       "        </tr>\n",
       "        <tr>\n",
       "            <td>alb </td> <td>2012</td> <td>0.46                                          </td>\n",
       "        </tr>\n",
       "        <tr>\n",
       "            <td>dza </td> <td>1988</td> <td>7.1                                           </td>\n",
       "        </tr>\n",
       "        <tr>\n",
       "            <td>dza </td> <td>1995</td> <td>6.38                                          </td>\n",
       "        </tr>\n",
       "        <tr>\n",
       "            <td>ago </td> <td>2000</td> <td>54.31                                         </td>\n",
       "        </tr>\n",
       "        <tr>\n",
       "            <td>ago </td> <td>2009</td> <td>43.37                                         </td>\n",
       "        </tr>\n",
       "    </tbody>\n",
       "</table>\n",
       "<p>... (1089 rows omitted)</p>"
      ],
      "text/plain": [
       "geo  | time | extreme_poverty_percent_people_below_125_a_day\n",
       "alb  | 1996 | 0.2\n",
       "alb  | 2002 | 0.73\n",
       "alb  | 2004 | 0.53\n",
       "alb  | 2005 | 0.44\n",
       "alb  | 2008 | 0.2\n",
       "alb  | 2012 | 0.46\n",
       "dza  | 1988 | 7.1\n",
       "dza  | 1995 | 6.38\n",
       "ago  | 2000 | 54.31\n",
       "ago  | 2009 | 43.37\n",
       "... (1089 rows omitted)"
      ]
     },
     "execution_count": 289,
     "metadata": {},
     "output_type": "execute_result"
    }
   ],
   "source": [
    "poverty"
   ]
  },
  {
   "cell_type": "code",
   "execution_count": 290,
   "metadata": {},
   "outputs": [
    {
     "data": {
      "text/html": [
       "<table border=\"1\" class=\"dataframe\">\n",
       "    <thead>\n",
       "        <tr>\n",
       "            <th>geo</th> <th>time</th> <th>extreme_poverty_percent_people_below_125_a_day</th>\n",
       "        </tr>\n",
       "    </thead>\n",
       "    <tbody>\n",
       "        <tr>\n",
       "            <td>ago </td> <td>2000</td> <td>54.31                                         </td>\n",
       "        </tr>\n",
       "        <tr>\n",
       "            <td>ago </td> <td>2009</td> <td>43.37                                         </td>\n",
       "        </tr>\n",
       "    </tbody>\n",
       "</table>"
      ],
      "text/plain": [
       "geo  | time | extreme_poverty_percent_people_below_125_a_day\n",
       "ago  | 2000 | 54.31\n",
       "ago  | 2009 | 43.37"
      ]
     },
     "execution_count": 290,
     "metadata": {},
     "output_type": "execute_result"
    }
   ],
   "source": [
    "country_poverty = poverty.where('geo', are.equal_to('ago'))\n",
    "country_poverty"
   ]
  },
  {
   "cell_type": "code",
   "execution_count": 291,
   "metadata": {},
   "outputs": [
    {
     "data": {
      "text/html": [
       "<table border=\"1\" class=\"dataframe\">\n",
       "    <thead>\n",
       "        <tr>\n",
       "            <th>geo</th> <th>time</th> <th>population_total</th>\n",
       "        </tr>\n",
       "    </thead>\n",
       "    <tbody>\n",
       "        <tr>\n",
       "            <td>ago </td> <td>1800</td> <td>1567028         </td>\n",
       "        </tr>\n",
       "        <tr>\n",
       "            <td>ago </td> <td>1801</td> <td>1567028         </td>\n",
       "        </tr>\n",
       "        <tr>\n",
       "            <td>ago </td> <td>1802</td> <td>1567028         </td>\n",
       "        </tr>\n",
       "        <tr>\n",
       "            <td>ago </td> <td>1803</td> <td>1567028         </td>\n",
       "        </tr>\n",
       "        <tr>\n",
       "            <td>ago </td> <td>1804</td> <td>1567028         </td>\n",
       "        </tr>\n",
       "        <tr>\n",
       "            <td>ago </td> <td>1805</td> <td>1567028         </td>\n",
       "        </tr>\n",
       "        <tr>\n",
       "            <td>ago </td> <td>1806</td> <td>1567028         </td>\n",
       "        </tr>\n",
       "        <tr>\n",
       "            <td>ago </td> <td>1807</td> <td>1567028         </td>\n",
       "        </tr>\n",
       "        <tr>\n",
       "            <td>ago </td> <td>1808</td> <td>1567028         </td>\n",
       "        </tr>\n",
       "        <tr>\n",
       "            <td>ago </td> <td>1809</td> <td>1567028         </td>\n",
       "        </tr>\n",
       "    </tbody>\n",
       "</table>\n",
       "<p>... (291 rows omitted)</p>"
      ],
      "text/plain": [
       "geo  | time | population_total\n",
       "ago  | 1800 | 1567028\n",
       "ago  | 1801 | 1567028\n",
       "ago  | 1802 | 1567028\n",
       "ago  | 1803 | 1567028\n",
       "ago  | 1804 | 1567028\n",
       "ago  | 1805 | 1567028\n",
       "ago  | 1806 | 1567028\n",
       "ago  | 1807 | 1567028\n",
       "ago  | 1808 | 1567028\n",
       "ago  | 1809 | 1567028\n",
       "... (291 rows omitted)"
      ]
     },
     "execution_count": 291,
     "metadata": {},
     "output_type": "execute_result"
    }
   ],
   "source": [
    "country_pop = population.where('geo', are.equal_to('ago'))\n",
    "country_pop"
   ]
  },
  {
   "cell_type": "code",
   "execution_count": 292,
   "metadata": {},
   "outputs": [
    {
     "data": {
      "text/html": [
       "<table border=\"1\" class=\"dataframe\">\n",
       "    <thead>\n",
       "        <tr>\n",
       "            <th>time</th> <th>geo</th> <th>extreme_poverty_percent_people_below_125_a_day</th> <th>geo_2</th> <th>population_total</th>\n",
       "        </tr>\n",
       "    </thead>\n",
       "    <tbody>\n",
       "        <tr>\n",
       "            <td>2000</td> <td>ago </td> <td>54.31                                         </td> <td>ago  </td> <td>15058638        </td>\n",
       "        </tr>\n",
       "        <tr>\n",
       "            <td>2009</td> <td>ago </td> <td>43.37                                         </td> <td>ago  </td> <td>20520103        </td>\n",
       "        </tr>\n",
       "    </tbody>\n",
       "</table>"
      ],
      "text/plain": [
       "time | geo  | extreme_poverty_percent_people_below_125_a_day | geo_2 | population_total\n",
       "2000 | ago  | 54.31                                          | ago   | 15058638\n",
       "2009 | ago  | 43.37                                          | ago   | 20520103"
      ]
     },
     "execution_count": 292,
     "metadata": {},
     "output_type": "execute_result"
    }
   ],
   "source": [
    "pop_and_poverty = country_poverty.join('time', country_pop, 'time')\n",
    "pop_and_poverty"
   ]
  },
  {
   "cell_type": "code",
   "execution_count": 293,
   "metadata": {},
   "outputs": [],
   "source": [
    "def poverty_timeline(country):\n",
    "    '''Draw a timeline of people living in extreme poverty in a country.'''\n",
    "    geo = countries.where('name', are.equal_to(country)).column(0).item(0)\n",
    "    country_poverty = poverty.where('geo', are.equal_to(geo))\n",
    "    country_pop = population.where('geo', are.equal_to(geo))\n",
    "    pop_and_poverty = country_poverty.join('time', country_pop, 'time')\n",
    "    pop_in_poverty = pop_and_poverty.with_column('total_poverty', pop_and_poverty.column('extreme_poverty_percent_people_below_125_a_day')*pop_and_poverty.column('population_total')/100).relabeled('time', 'Year')\n",
    "    return pop_in_poverty.plot('Year','total_poverty')\n",
    "    # This solution will take multiple lines of code. Use as many as you need\n",
    "    ..."
   ]
  },
  {
   "cell_type": "markdown",
   "metadata": {
    "deletable": false,
    "editable": false
   },
   "source": [
    "Finally, draw the timelines below to see how the world is changing. You can check your work by comparing your graphs to the ones on [gapminder.org](https://www.gapminder.org/tools/#$state$entities$show$country$/$in@=ind;;;;&marker$axis_y$which=number_of_people_in_poverty&scaleType=linear&spaceRef:null;;;&chart-type=linechart).\n",
    "\n",
    "<!--\n",
    "BEGIN QUESTION\n",
    "name: q2_6\n",
    "manual: true\n",
    "-->\n",
    "<!-- EXPORT TO PDF -->"
   ]
  },
  {
   "cell_type": "code",
   "execution_count": 294,
   "metadata": {
    "export_pdf": true
   },
   "outputs": [
    {
     "data": {
      "image/png": "[encoded data removed]",
      "text/plain": [
       "<Figure size 432x288 with 1 Axes>"
      ]
     },
     "metadata": {},
     "output_type": "display_data"
    },
    {
     "data": {
      "image/png": "[encoded data removed]",
      "text/plain": [
       "<Figure size 432x288 with 1 Axes>"
      ]
     },
     "metadata": {},
     "output_type": "display_data"
    },
    {
     "data": {
      "image/png": "[encoded data removed]",
      "text/plain": [
       "<Figure size 432x288 with 1 Axes>"
      ]
     },
     "metadata": {},
     "output_type": "display_data"
    },
    {
     "data": {
      "image/png": "[encoded data removed]",
      "text/plain": [
       "<Figure size 432x288 with 1 Axes>"
      ]
     },
     "metadata": {},
     "output_type": "display_data"
    }
   ],
   "source": [
    "poverty_timeline('India')\n",
    "poverty_timeline('Nigeria')\n",
    "poverty_timeline('China')\n",
    "poverty_timeline('United States')"
   ]
  },
  {
   "cell_type": "markdown",
   "metadata": {
    "deletable": false,
    "editable": false
   },
   "source": [
    "Although the number of people living in extreme poverty has been increasing in Nigeria and the United States, the massive decreases in China and India have shaped the overall trend that extreme poverty is decreasing worldwide, both in percentage and in absolute number. \n",
    "\n",
    "To learn more, watch [Hans Rosling in a 2015 film](https://www.gapminder.org/videos/dont-panic-end-poverty/) about the UN goal of eradicating extreme poverty from the world. \n",
    "\n",
    "Below, we've also added an interactive dropdown menu for you to visualize `poverty_timeline` graphs for other countries. Note that each dropdown menu selection may take a few seconds to run."
   ]
  },
  {
   "cell_type": "code",
   "execution_count": 295,
   "metadata": {
    "deletable": false,
    "editable": false
   },
   "outputs": [
    {
     "data": {
      "application/vnd.jupyter.widget-view+json": {
       "model_id": "be324e7a05bd487caebb8886aa94a2a7",
       "version_major": 2,
       "version_minor": 0
      },
      "text/plain": [
       "interactive(children=(Dropdown(description='country', options=('Angola', 'Albania', 'Argentina', 'Armenia', 'A…"
      ]
     },
     "metadata": {},
     "output_type": "display_data"
    }
   ],
   "source": [
    "# Just run this cell\n",
    "\n",
    "all_countries = poverty_map.column('name')\n",
    "_ = widgets.interact(poverty_timeline, country=list(all_countries))"
   ]
  },
  {
   "cell_type": "markdown",
   "metadata": {
    "deletable": false,
    "editable": false
   },
   "source": [
    "**You're finished!** Congratulations on mastering data visualization and table manipulation. Time to submit."
   ]
  },
  {
   "cell_type": "markdown",
   "metadata": {},
   "source": [
    "## 3. Submission\n"
   ]
  },
  {
   "cell_type": "markdown",
   "metadata": {
    "collapsed": true
   },
   "source": [
    "Once you're finished, select \"Save and Checkpoint\" in the File menu and then execute the `submit` cell below. The result will contain a link that you can use to check that your assignment has been submitted successfully. If you submit more than once before the deadline, we will only grade your final submission. If you mistakenly submit the wrong one, you can head to [okpy.org](https://okpy.org/) and flag the correct version. To do so, go to the website, click on this assignment, and find the version you would like to have graded. There should be an option to flag that submission for grading!"
   ]
  },
  {
   "cell_type": "code",
   "execution_count": null,
   "metadata": {},
   "outputs": [
    {
     "data": {
      "application/javascript": [
       "IPython.notebook.save_checkpoint();"
      ],
      "text/plain": [
       "<IPython.core.display.Javascript object>"
      ]
     },
     "metadata": {},
     "output_type": "display_data"
    }
   ],
   "source": [
    "_ = ok.submit()"
   ]
  },
  {
   "cell_type": "code",
   "execution_count": null,
   "metadata": {},
   "outputs": [],
   "source": [
    "# For your convenience, you can run this cell to run all the tests at once!\n",
    "import os\n",
    "print(\"Running all tests...\")\n",
    "_ = [ok.grade(q[:-3]) for q in os.listdir(\"tests\") if q.startswith('q') and len(q) <= 10]\n",
    "print(\"Finished running all tests.\")"
   ]
  },
  {
   "cell_type": "code",
   "execution_count": null,
   "metadata": {},
   "outputs": [],
   "source": []
  }
 ],
 "metadata": {
  "kernelspec": {
   "display_name": "Python 3 (ipykernel)",
   "language": "python",
   "name": "python3"
  },
  "language_info": {
   "codemirror_mode": {
    "name": "ipython",
    "version": 3
   },
   "file_extension": ".py",
   "mimetype": "text/x-python",
   "name": "python",
   "nbconvert_exporter": "python",
   "pygments_lexer": "ipython3",
   "version": "3.9.7"
  }
 },
 "nbformat": 4,
 "nbformat_minor": 1
}
