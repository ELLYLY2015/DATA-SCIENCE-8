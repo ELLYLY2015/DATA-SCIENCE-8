{
 "cells": [
  {
   "cell_type": "code",
   "execution_count": 1,
   "metadata": {
    "deletable": false,
    "editable": false
   },
   "outputs": [
    {
     "name": "stdout",
     "output_type": "stream",
     "text": [
      "=====================================================================\n",
      "Assignment: Homework 12: Classification\n",
      "OK, version v1.12.5\n",
      "=====================================================================\n",
      "\n"
     ]
    }
   ],
   "source": [
    "# Initialize OK\n",
    "from client.api.notebook import Notebook\n",
    "ok = Notebook('hw12.ok')"
   ]
  },
  {
   "cell_type": "markdown",
   "metadata": {},
   "source": [
    "# Homework 12: Classification"
   ]
  },
  {
   "cell_type": "markdown",
   "metadata": {},
   "source": [
    "**Reading**: \n",
    "\n",
    "* [Classification](https://www.inferentialthinking.com/chapters/17/classification.html)\n"
   ]
  },
  {
   "cell_type": "markdown",
   "metadata": {},
   "source": [
    "Please complete this notebook by filling in the cells provided. Before you begin, execute the following cell to load the provided tests. Each time you start your server, you will need to execute this cell again to load the tests.\n",
    "\n",
    "Homework 12 is due **Thursday, 4/30 at 11:59pm**. You will receive an early submission bonus point if you turn in your final submission by Wednesday, 4/29 at 11:59pm. Start early so that you can come to office hours if you're stuck. Check the website for the office hours schedule. Late work will not be accepted as per the [policies](http://data8.org/sp20/policies.html) of this course. \n",
    "\n",
    "Directly sharing answers is not okay, but discussing problems with the course staff or with other students is encouraged. Refer to the policies page to learn more about how to learn cooperatively.\n",
    "\n",
    "For all problems that you must write out explanations and sentences for, you **must** provide your answer in the designated space. Moreover, throughout this homework and all future ones, please be sure to not re-assign variables throughout the notebook! For example, if you use `max_temperature` in your answer to one question, do not reassign it later on."
   ]
  },
  {
   "cell_type": "code",
   "execution_count": 2,
   "metadata": {
    "ExecuteTime": {
     "end_time": "2018-04-04T09:34:44.498842Z",
     "start_time": "2018-04-04T09:34:42.821921Z"
    }
   },
   "outputs": [
    {
     "name": "stdout",
     "output_type": "stream",
     "text": [
      "=====================================================================\n",
      "Assignment: Homework 12: Classification\n",
      "OK, version v1.12.5\n",
      "=====================================================================\n",
      "\n"
     ]
    }
   ],
   "source": [
    "# Don't change this cell; just run it. \n",
    "\n",
    "import numpy as np\n",
    "from datascience import *\n",
    "\n",
    "# These lines do some fancy plotting magic.\n",
    "import matplotlib\n",
    "%matplotlib inline\n",
    "import matplotlib.pyplot as plt\n",
    "plt.style.use('fivethirtyeight')\n",
    "import warnings\n",
    "warnings.simplefilter('ignore', FutureWarning)\n",
    "\n",
    "from client.api.notebook import Notebook\n",
    "ok = Notebook('hw12.ok')"
   ]
  },
  {
   "cell_type": "code",
   "execution_count": 4,
   "metadata": {},
   "outputs": [
    {
     "data": {
      "image/png": "[encoded data removed]",
      "text/plain": [
       "<Figure size 360x360 with 1 Axes>"
      ]
     },
     "metadata": {},
     "output_type": "display_data"
    }
   ],
   "source": [
    "data = Table().with_columns(\"x\", make_array(-3,-2,-1,0), \"y\", make_array(5/3,0,5/3,20/3))\n",
    "data.scatter(\"x\")\n"
   ]
  },
  {
   "cell_type": "code",
   "execution_count": null,
   "metadata": {},
   "outputs": [],
   "source": []
  },
  {
   "cell_type": "code",
   "execution_count": null,
   "metadata": {},
   "outputs": [],
   "source": []
  },
  {
   "cell_type": "code",
   "execution_count": null,
   "metadata": {},
   "outputs": [],
   "source": []
  },
  {
   "cell_type": "markdown",
   "metadata": {},
   "source": [
    "## 1. Bay Area School Coordinates with Classification\n"
   ]
  },
  {
   "cell_type": "markdown",
   "metadata": {},
   "source": [
    "Welcome to Homework 12! This homework is about k-Nearest Neighbors classification (kNN). Since this topic is covered in depth in Project 3, the purpose of this homework is to reinforce the basics of this method. You can and should reuse a lot of code that you wrote for Project 3 for this homework, or use code from this homework on Project 3!"
   ]
  },
  {
   "cell_type": "markdown",
   "metadata": {},
   "source": [
    "## Our Dearest Neighbors"
   ]
  },
  {
   "cell_type": "markdown",
   "metadata": {},
   "source": [
    "Carol is trying classify students as either attendees of UC Berkeley or as attendees of Leland Stanford Junior College. To classify the students, Carol has access to the coordinates of the location they live during the school year. First, load in the `coordinates` table."
   ]
  },
  {
   "cell_type": "code",
   "execution_count": 39,
   "metadata": {
    "deletable": false,
    "editable": false
   },
   "outputs": [
    {
     "data": {
      "text/html": [
       "<table border=\"1\" class=\"dataframe\">\n",
       "    <thead>\n",
       "        <tr>\n",
       "            <th>latitude</th> <th>longitude</th> <th>school</th>\n",
       "        </tr>\n",
       "    </thead>\n",
       "    <tbody>\n",
       "        <tr>\n",
       "            <td>37.8693 </td> <td>-122.255 </td> <td>Berkeley</td>\n",
       "        </tr>\n",
       "        <tr>\n",
       "            <td>37.8651 </td> <td>-122.256 </td> <td>Berkeley</td>\n",
       "        </tr>\n",
       "        <tr>\n",
       "            <td>37.8661 </td> <td>-122.254 </td> <td>Berkeley</td>\n",
       "        </tr>\n",
       "        <tr>\n",
       "            <td>37.868  </td> <td>-122.26  </td> <td>Berkeley</td>\n",
       "        </tr>\n",
       "        <tr>\n",
       "            <td>37.8683 </td> <td>-122.257 </td> <td>Berkeley</td>\n",
       "        </tr>\n",
       "    </tbody>\n",
       "</table>\n",
       "<p>... (95 rows omitted)</p>"
      ],
      "text/plain": [
       "<IPython.core.display.HTML object>"
      ]
     },
     "metadata": {},
     "output_type": "display_data"
    }
   ],
   "source": [
    "# Just run this cell!\n",
    "coordinates = Table.read_table('coordinates.csv')\n",
    "coordinates.show(5)"
   ]
  },
  {
   "cell_type": "markdown",
   "metadata": {},
   "source": [
    "As usual, let's investigate our data visually before performing any kind of numerical analysis."
   ]
  },
  {
   "cell_type": "code",
   "execution_count": 40,
   "metadata": {
    "deletable": false,
    "editable": false
   },
   "outputs": [
    {
     "data": {
      "image/png": "[encoded data removed]",
      "text/plain": [
       "<Figure size 360x360 with 1 Axes>"
      ]
     },
     "metadata": {},
     "output_type": "display_data"
    }
   ],
   "source": [
    "# Just run this cell!\n",
    "coordinates.scatter(\"longitude\", \"latitude\", group=\"school\")"
   ]
  },
  {
   "cell_type": "markdown",
   "metadata": {},
   "source": [
    "The locations of the points on this scatter plot might be familiar - run the following cell to see what they correspond to."
   ]
  },
  {
   "cell_type": "code",
   "execution_count": 41,
   "metadata": {
    "deletable": false,
    "editable": false
   },
   "outputs": [
    {
     "data": {
      "text/html": [
       "<div style=\"width:100%;\"><div style=\"position:relative;width:100%;height:0;padding-bottom:60%;\"><iframe src=\"about:blank\" style=\"position:absolute;width:100%;height:100%;left:0;top:0;border:none !important;\" data-html=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 onload=\"this.contentDocument.open();this.contentDocument.write(atob(this.getAttribute('data-html')));this.contentDocument.close();\" allowfullscreen webkitallowfullscreen mozallowfullscreen></iframe></div></div>"
      ],
      "text/plain": [
       "<datascience.maps.Map at 0x7fe0d28188d0>"
      ]
     },
     "execution_count": 41,
     "metadata": {},
     "output_type": "execute_result"
    }
   ],
   "source": [
    "# Just run this cell!\n",
    "colors = {\"Berkeley\":\"blue\", \"Stanford\":\"red\"}\n",
    "t = Table().with_columns(\"lat\", coordinates.column(0), \n",
    "                                      \"lon\", coordinates.column(1), \n",
    "                                      \"color\", coordinates.apply(colors.get, 2)\n",
    "                        )\n",
    "Circle.map_table(t, radius=5, fill_opacity=1)"
   ]
  },
  {
   "cell_type": "markdown",
   "metadata": {
    "deletable": false,
    "editable": false
   },
   "source": [
    "#### Question 1\n",
    "\n",
    "Let's begin implementing the k-Nearest Neighbors algorithm. Define the `distance` function, which takes in two arguments: an array of numerical features, and a different array of numerical features. The function should return the [Euclidean distance](https://en.wikipedia.org/wiki/Euclidean_distance) between the two arrays. Euclidean distance is often referred to as the straight-line distance formula that you may have learned previously.\n",
    "\n",
    "\n",
    "<!--\n",
    "BEGIN QUESTION\n",
    "name: q1_1\n",
    "manual: false\n",
    "-->"
   ]
  },
  {
   "cell_type": "code",
   "execution_count": 42,
   "metadata": {},
   "outputs": [
    {
     "data": {
      "text/plain": [
       "5.196152422706632"
      ]
     },
     "execution_count": 42,
     "metadata": {},
     "output_type": "execute_result"
    }
   ],
   "source": [
    "np.sqrt((1-4)**2+(2-5)**2+(3-6)**2)"
   ]
  },
  {
   "cell_type": "code",
   "execution_count": 43,
   "metadata": {
    "deletable": false
   },
   "outputs": [
    {
     "data": {
      "text/plain": [
       "5.196152422706632"
      ]
     },
     "execution_count": 43,
     "metadata": {},
     "output_type": "execute_result"
    }
   ],
   "source": [
    "def distance(arr1, arr2):\n",
    "    return np.sqrt(sum((arr1 - arr2)**2))\n",
    "\n",
    "# Don't change/delete the code below in this cell\n",
    "distance_example = distance(make_array(1, 2, 3), make_array(4, 5, 6))\n",
    "distance_example"
   ]
  },
  {
   "cell_type": "code",
   "execution_count": 44,
   "metadata": {
    "deletable": false,
    "editable": false
   },
   "outputs": [
    {
     "name": "stdout",
     "output_type": "stream",
     "text": [
      "~~~~~~~~~~~~~~~~~~~~~~~~~~~~~~~~~~~~~~~~~~~~~~~~~~~~~~~~~~~~~~~~~~~~~\n",
      "Running tests\n",
      "\n",
      "---------------------------------------------------------------------\n",
      "Test summary\n",
      "    Passed: 2\n",
      "    Failed: 0\n",
      "[ooooooooook] 100.0% passed\n",
      "\n"
     ]
    }
   ],
   "source": [
    "ok.grade(\"q1_1\");"
   ]
  },
  {
   "cell_type": "markdown",
   "metadata": {},
   "source": [
    "### Splitting the dataset\n",
    "We'll do 2 different kinds of things with the `coordinates` dataset:\n",
    "1. We'll build a classifier using coordinates for which we know the associated label; this will teach it to recognize labels of similar coordinate values. This process is known as *training*.\n",
    "2. We'll evaluate or *test* the accuracy of the classifier we build on data we haven't seen before.\n",
    "\n",
    "For reasons discussed in lecture and the textbook, we want to use separate datasets for these two purposes.  So we split up our one dataset into two."
   ]
  },
  {
   "cell_type": "markdown",
   "metadata": {
    "deletable": false,
    "editable": false
   },
   "source": [
    "#### Question 2\n",
    "\n",
    "Next, let's split our dataset into a training set and a test set. Since `coordinates` has $100$ rows, let's create a training set with the first 75 rows and a test set with the remaining 25 rows. Remember that assignment to each group should be random, so we should shuffle the table first.\n",
    "\n",
    "*Hint: as a first step we can shuffle all the rows, then use the* `tbl.take` *function to split up the rows for each table*\n",
    "\n",
    "\n",
    "<!--\n",
    "BEGIN QUESTION\n",
    "name: q1_2\n",
    "manual: false\n",
    "-->"
   ]
  },
  {
   "cell_type": "code",
   "execution_count": 45,
   "metadata": {
    "for_assignment_type": "solution"
   },
   "outputs": [
    {
     "name": "stdout",
     "output_type": "stream",
     "text": [
      "Training set:\t 75 examples\n",
      "Test set:\t 25 examples\n"
     ]
    },
    {
     "data": {
      "text/html": [
       "<table border=\"1\" class=\"dataframe\">\n",
       "    <thead>\n",
       "        <tr>\n",
       "            <th>latitude</th> <th>longitude</th> <th>school</th>\n",
       "        </tr>\n",
       "    </thead>\n",
       "    <tbody>\n",
       "        <tr>\n",
       "            <td>37.8666 </td> <td>-122.283 </td> <td>Berkeley</td>\n",
       "        </tr>\n",
       "        <tr>\n",
       "            <td>37.8663 </td> <td>-122.251 </td> <td>Berkeley</td>\n",
       "        </tr>\n",
       "        <tr>\n",
       "            <td>37.8688 </td> <td>-122.255 </td> <td>Berkeley</td>\n",
       "        </tr>\n",
       "        <tr>\n",
       "            <td>37.8761 </td> <td>-122.282 </td> <td>Berkeley</td>\n",
       "        </tr>\n",
       "        <tr>\n",
       "            <td>37.8751 </td> <td>-122.268 </td> <td>Berkeley</td>\n",
       "        </tr>\n",
       "    </tbody>\n",
       "</table>\n",
       "<p>... (70 rows omitted)</p>"
      ],
      "text/plain": [
       "<IPython.core.display.HTML object>"
      ]
     },
     "metadata": {},
     "output_type": "display_data"
    },
    {
     "data": {
      "text/html": [
       "<table border=\"1\" class=\"dataframe\">\n",
       "    <thead>\n",
       "        <tr>\n",
       "            <th>latitude</th> <th>longitude</th> <th>school</th>\n",
       "        </tr>\n",
       "    </thead>\n",
       "    <tbody>\n",
       "        <tr>\n",
       "            <td>37.8685 </td> <td>-122.272 </td> <td>Berkeley</td>\n",
       "        </tr>\n",
       "        <tr>\n",
       "            <td>37.8639 </td> <td>-122.262 </td> <td>Berkeley</td>\n",
       "        </tr>\n",
       "        <tr>\n",
       "            <td>37.8677 </td> <td>-122.25  </td> <td>Berkeley</td>\n",
       "        </tr>\n",
       "        <tr>\n",
       "            <td>37.8672 </td> <td>-122.264 </td> <td>Berkeley</td>\n",
       "        </tr>\n",
       "        <tr>\n",
       "            <td>37.4281 </td> <td>-122.154 </td> <td>Stanford</td>\n",
       "        </tr>\n",
       "    </tbody>\n",
       "</table>\n",
       "<p>... (20 rows omitted)</p>"
      ],
      "text/plain": [
       "<IPython.core.display.HTML object>"
      ]
     },
     "metadata": {},
     "output_type": "display_data"
    }
   ],
   "source": [
    "shuffled_table = coordinates.sample(with_replacement = False)\n",
    "train = shuffled_table.take(np.arange(75))\n",
    "test = shuffled_table.take(np.arange(75, 100))\n",
    "\n",
    "print(\"Training set:\\t\",   train.num_rows, \"examples\")\n",
    "print(\"Test set:\\t\",       test.num_rows, \"examples\")\n",
    "train.show(5), test.show(5);"
   ]
  },
  {
   "cell_type": "code",
   "execution_count": 46,
   "metadata": {
    "deletable": false,
    "editable": false
   },
   "outputs": [
    {
     "name": "stdout",
     "output_type": "stream",
     "text": [
      "~~~~~~~~~~~~~~~~~~~~~~~~~~~~~~~~~~~~~~~~~~~~~~~~~~~~~~~~~~~~~~~~~~~~~\n",
      "Running tests\n",
      "\n",
      "---------------------------------------------------------------------\n",
      "Test summary\n",
      "    Passed: 3\n",
      "    Failed: 0\n",
      "[ooooooooook] 100.0% passed\n",
      "\n"
     ]
    }
   ],
   "source": [
    "ok.grade(\"q1_2\");"
   ]
  },
  {
   "cell_type": "markdown",
   "metadata": {
    "deletable": false,
    "editable": false
   },
   "source": [
    "#### Question 3\n",
    "\n",
    "Assign `features` to an array of the labels of the features from the `coordinates` table.\n",
    "\n",
    "*Hint: which of the column labels in the `coordinates` table are the features, and which of the column labels correspond to the class we're trying to predict?*\n",
    "\n",
    "<!--\n",
    "BEGIN QUESTION\n",
    "name: q1_3\n",
    "manual: false\n",
    "-->"
   ]
  },
  {
   "cell_type": "code",
   "execution_count": 47,
   "metadata": {},
   "outputs": [
    {
     "data": {
      "text/plain": [
       "array([  37.869304, -122.254946])"
      ]
     },
     "execution_count": 47,
     "metadata": {},
     "output_type": "execute_result"
    }
   ],
   "source": [
    "row_to_array(coordinates.row(0), features)"
   ]
  },
  {
   "cell_type": "code",
   "execution_count": 48,
   "metadata": {
    "deletable": false
   },
   "outputs": [
    {
     "data": {
      "text/plain": [
       "array(['latitude', 'longitude'], dtype='<U9')"
      ]
     },
     "execution_count": 48,
     "metadata": {},
     "output_type": "execute_result"
    }
   ],
   "source": [
    "features = make_array(\"latitude\", \"longitude\")\n",
    "features"
   ]
  },
  {
   "cell_type": "code",
   "execution_count": 49,
   "metadata": {
    "deletable": false,
    "editable": false
   },
   "outputs": [
    {
     "name": "stdout",
     "output_type": "stream",
     "text": [
      "~~~~~~~~~~~~~~~~~~~~~~~~~~~~~~~~~~~~~~~~~~~~~~~~~~~~~~~~~~~~~~~~~~~~~\n",
      "Running tests\n",
      "\n",
      "---------------------------------------------------------------------\n",
      "Test summary\n",
      "    Passed: 1\n",
      "    Failed: 0\n",
      "[ooooooooook] 100.0% passed\n",
      "\n"
     ]
    }
   ],
   "source": [
    "ok.grade(\"q1_3\");"
   ]
  },
  {
   "cell_type": "markdown",
   "metadata": {
    "deletable": false,
    "editable": false
   },
   "source": [
    "<div class=\"hide\">\\pagebreak</div>\n",
    "\n",
    "#### Question 4\n",
    "\n",
    "Now define the `classify` function. This function should take in a `row` from a table like `test` and classify it based on the data in `train` using the `k`-Nearest Neighbors based on the correct `features`.\n",
    "\n",
    "*Hint: use the `row_to_array` function we defined for you to convert rows to arrays of features so that you can use the `distance` function you defined earlier.*\n",
    "\n",
    "*Hint 2: the skeleton code we provided iterates through each row in the training set*\n",
    "\n",
    "<!--\n",
    "BEGIN QUESTION\n",
    "name: q1_4\n",
    "manual: false\n",
    "-->"
   ]
  },
  {
   "cell_type": "code",
   "execution_count": null,
   "metadata": {},
   "outputs": [],
   "source": []
  },
  {
   "cell_type": "code",
   "execution_count": 50,
   "metadata": {
    "deletable": false,
    "manual_grade": true,
    "manual_problem_id": "sign_lang_2"
   },
   "outputs": [
    {
     "data": {
      "text/plain": [
       "'Berkeley'"
      ]
     },
     "execution_count": 50,
     "metadata": {},
     "output_type": "execute_result"
    }
   ],
   "source": [
    "def row_to_array(row, features):\n",
    "    arr = make_array()\n",
    "    for feature in features:\n",
    "        arr = np.append(arr, row.item(feature))\n",
    "    return arr\n",
    "m = Table()\n",
    "def classify(row, k, train):\n",
    "    test_row_features_array = row_to_array(row, features)\n",
    "    distances = make_array()\n",
    "    for train_row in train.rows:\n",
    "        train_row_features_array = row_to_array(train_row, features)\n",
    "        row_distance = distance(test_row_features_array, train_row_features_array)\n",
    "        distances = np.append(distances, row_distance)\n",
    "    train_with_distances = train.with_column(\"distance\", distances).sort(\"distance\")\n",
    "    nearest_neighbors = train_with_distances.take(np.arange(k))\n",
    "    most_common_label = nearest_neighbors.group(\"school\").sort(\"count\", descending = True).column(0).item(0)\n",
    "    return most_common_label\n",
    "\n",
    "# Don't modify/delete the code below\n",
    "first_test = classify(test.row(0), 5, train)\n",
    "first_test"
   ]
  },
  {
   "cell_type": "code",
   "execution_count": 51,
   "metadata": {
    "deletable": false,
    "editable": false
   },
   "outputs": [
    {
     "name": "stdout",
     "output_type": "stream",
     "text": [
      "~~~~~~~~~~~~~~~~~~~~~~~~~~~~~~~~~~~~~~~~~~~~~~~~~~~~~~~~~~~~~~~~~~~~~\n",
      "Running tests\n",
      "\n",
      "---------------------------------------------------------------------\n",
      "Test summary\n",
      "    Passed: 2\n",
      "    Failed: 0\n",
      "[ooooooooook] 100.0% passed\n",
      "\n"
     ]
    }
   ],
   "source": [
    "ok.grade(\"q1_4\");"
   ]
  },
  {
   "cell_type": "markdown",
   "metadata": {
    "deletable": false,
    "editable": false
   },
   "source": [
    "<div class=\"hide\">\\pagebreak</div>\n",
    "\n",
    "#### Question 5\n",
    "\n",
    "Define the function `three_classify` that takes a `row` from `test` as an argument and classifies the row based on using 3-Nearest Neighbors. Use this function to find the `accuracy` of a 3-NN classifier on the `test` set. `accuracy` should be a proportion (not a percentage) of the schools that were correctly predicted.\n",
    "\n",
    "*Hint: you should be using a function you just created!*\n",
    "\n",
    "*Note: Usually before using a classifier on a test set, we'd classify first on a \"validation\" set, which we then can modify our training set again if need be, before actually testing on the test set. You don’t need to do that for this question, but you will learn about this more in Data 100.*\n",
    "\n",
    "<!--\n",
    "BEGIN QUESTION\n",
    "name: q1_5\n",
    "manual: false\n",
    "-->"
   ]
  },
  {
   "cell_type": "code",
   "execution_count": 52,
   "metadata": {},
   "outputs": [
    {
     "data": {
      "text/html": [
       "<table border=\"1\" class=\"dataframe\">\n",
       "    <thead>\n",
       "        <tr>\n",
       "            <th>latitude</th> <th>longitude</th> <th>school</th>\n",
       "        </tr>\n",
       "    </thead>\n",
       "    <tbody>\n",
       "        <tr>\n",
       "            <td>37.8685 </td> <td>-122.272 </td> <td>Berkeley</td>\n",
       "        </tr>\n",
       "        <tr>\n",
       "            <td>37.8639 </td> <td>-122.262 </td> <td>Berkeley</td>\n",
       "        </tr>\n",
       "        <tr>\n",
       "            <td>37.8677 </td> <td>-122.25  </td> <td>Berkeley</td>\n",
       "        </tr>\n",
       "        <tr>\n",
       "            <td>37.8672 </td> <td>-122.264 </td> <td>Berkeley</td>\n",
       "        </tr>\n",
       "        <tr>\n",
       "            <td>37.4281 </td> <td>-122.154 </td> <td>Stanford</td>\n",
       "        </tr>\n",
       "        <tr>\n",
       "            <td>37.4149 </td> <td>-122.165 </td> <td>Stanford</td>\n",
       "        </tr>\n",
       "        <tr>\n",
       "            <td>37.4342 </td> <td>-122.168 </td> <td>Stanford</td>\n",
       "        </tr>\n",
       "        <tr>\n",
       "            <td>37.8685 </td> <td>-122.271 </td> <td>Berkeley</td>\n",
       "        </tr>\n",
       "        <tr>\n",
       "            <td>37.8774 </td> <td>-122.265 </td> <td>Berkeley</td>\n",
       "        </tr>\n",
       "        <tr>\n",
       "            <td>37.8686 </td> <td>-122.274 </td> <td>Berkeley</td>\n",
       "        </tr>\n",
       "    </tbody>\n",
       "</table>\n",
       "<p>... (15 rows omitted)</p>"
      ],
      "text/plain": [
       "latitude | longitude | school\n",
       "37.8685  | -122.272  | Berkeley\n",
       "37.8639  | -122.262  | Berkeley\n",
       "37.8677  | -122.25   | Berkeley\n",
       "37.8672  | -122.264  | Berkeley\n",
       "37.4281  | -122.154  | Stanford\n",
       "37.4149  | -122.165  | Stanford\n",
       "37.4342  | -122.168  | Stanford\n",
       "37.8685  | -122.271  | Berkeley\n",
       "37.8774  | -122.265  | Berkeley\n",
       "37.8686  | -122.274  | Berkeley\n",
       "... (15 rows omitted)"
      ]
     },
     "execution_count": 52,
     "metadata": {},
     "output_type": "execute_result"
    }
   ],
   "source": [
    "test"
   ]
  },
  {
   "cell_type": "code",
   "execution_count": 53,
   "metadata": {},
   "outputs": [
    {
     "data": {
      "text/plain": [
       "array([ True,  True, False,  True,  True,  True,  True,  True,  True,\n",
       "        True,  True,  True, False,  True,  True, False,  True, False,\n",
       "        True,  True,  True,  True,  True,  True,  True])"
      ]
     },
     "execution_count": 53,
     "metadata": {},
     "output_type": "execute_result"
    }
   ],
   "source": [
    "test_with_prediction.column(\"school\") == \"Berkeley\""
   ]
  },
  {
   "cell_type": "code",
   "execution_count": 54,
   "metadata": {
    "deletable": false,
    "manual_grade": true,
    "manual_problem_id": "sign_lang_3"
   },
   "outputs": [
    {
     "data": {
      "text/plain": [
       "1.0"
      ]
     },
     "execution_count": 54,
     "metadata": {},
     "output_type": "execute_result"
    }
   ],
   "source": [
    "def three_classify(row):\n",
    "    return classify(row, 3, train)\n",
    "\n",
    "test_with_prediction = test.with_column(\"prediction\", test.apply(three_classify))\n",
    "labels_correct = sum(test_with_prediction.column(\"school\") == test_with_prediction.column(\"prediction\"))\n",
    "accuracy = labels_correct/test_with_prediction.num_rows\n",
    "accuracy"
   ]
  },
  {
   "cell_type": "code",
   "execution_count": 55,
   "metadata": {
    "deletable": false,
    "editable": false
   },
   "outputs": [
    {
     "name": "stdout",
     "output_type": "stream",
     "text": [
      "~~~~~~~~~~~~~~~~~~~~~~~~~~~~~~~~~~~~~~~~~~~~~~~~~~~~~~~~~~~~~~~~~~~~~\n",
      "Running tests\n",
      "\n",
      "---------------------------------------------------------------------\n",
      "Test summary\n",
      "    Passed: 2\n",
      "    Failed: 0\n",
      "[ooooooooook] 100.0% passed\n",
      "\n"
     ]
    }
   ],
   "source": [
    "ok.grade(\"q1_5\");"
   ]
  },
  {
   "cell_type": "markdown",
   "metadata": {
    "deletable": false,
    "editable": false
   },
   "source": [
    "#### Question 6\n",
    "\n",
    "There are 77 rows of Berkeley students and 23 rows of Stanford students in the `coordinates` table. If we used the entire `coordinates` table as the train set, what is the smallest value of k that would ensure that a k-Nearest Neighbor classifier would always predict Berkeley as the class? Assign the value to `k`.\n",
    "\n",
    "<!--\n",
    "BEGIN QUESTION\n",
    "name: q1_6\n",
    "manual: false\n",
    "-->"
   ]
  },
  {
   "cell_type": "code",
   "execution_count": 56,
   "metadata": {},
   "outputs": [
    {
     "data": {
      "text/plain": [
       "47"
      ]
     },
     "execution_count": 56,
     "metadata": {},
     "output_type": "execute_result"
    }
   ],
   "source": [
    "k = 47\n",
    "k"
   ]
  },
  {
   "cell_type": "code",
   "execution_count": 57,
   "metadata": {
    "deletable": false,
    "editable": false
   },
   "outputs": [
    {
     "name": "stdout",
     "output_type": "stream",
     "text": [
      "~~~~~~~~~~~~~~~~~~~~~~~~~~~~~~~~~~~~~~~~~~~~~~~~~~~~~~~~~~~~~~~~~~~~~\n",
      "Running tests\n",
      "\n",
      "---------------------------------------------------------------------\n",
      "Test summary\n",
      "    Passed: 1\n",
      "    Failed: 0\n",
      "[ooooooooook] 100.0% passed\n",
      "\n"
     ]
    }
   ],
   "source": [
    "ok.grade(\"q1_6\");"
   ]
  },
  {
   "cell_type": "markdown",
   "metadata": {
    "deletable": false,
    "editable": false
   },
   "source": [
    "#### Question 7\n",
    "\n",
    "Why do we divide our data into a training and test set? Should we use our test set to find the best possible number of neighbors for a k-NN classifer? What is the point of a test set, and why do we only want to use the test set once? Explain. \n",
    "\n",
    "\n",
    "<!--\n",
    "BEGIN QUESTION\n",
    "name: q1_7\n",
    "manual: true\n",
    "-->\n",
    "<!-- EXPORT TO PDF -->"
   ]
  },
  {
   "cell_type": "markdown",
   "metadata": {
    "export_pdf": true
   },
   "source": [
    "*we split the data into training and test set because we want to use those samples for testing the models that had not seen before. We should not use our test set to find the best possible number of neighbors for a k-nn classifer becasue it will lead bias.\n",
    "\n",
    "The point of a test set is to give us a final, unbiased performance measure of our entire model building process. Test set is used in the second stage, only when the model is completely trained (using the train set and validation set).\n",
    "\n",
    "If we trained on the test set, we can artificially bias the classifier. We do not train on the test set becasue we want to make sure the classifer is generalizible to the population.*"
   ]
  },
  {
   "cell_type": "markdown",
   "metadata": {
    "deletable": false,
    "editable": false
   },
   "source": [
    "#### Question 8\n",
    "\n",
    "Why do we use an odd-numbered `k` in k-NN? Explain.\n",
    "\n",
    "\n",
    "<!--\n",
    "BEGIN QUESTION\n",
    "name: q1_8\n",
    "manual: true\n",
    "-->\n",
    "<!-- EXPORT TO PDF -->"
   ]
  },
  {
   "cell_type": "markdown",
   "metadata": {
    "export_pdf": true
   },
   "source": [
    "*It is a good idea to choose a K value with an odd number to avoid a tie.*"
   ]
  },
  {
   "cell_type": "markdown",
   "metadata": {
    "deletable": false,
    "editable": false
   },
   "source": [
    "#### Question 9\n",
    "\n",
    "Thomas has devised a scheme for splitting up the test and training set. For each row from `coordinates`:\n",
    "\n",
    "- Rows for Stanford students have a 50% chance of being placed in the train set and 50% chance of placed in the test set.\n",
    "\n",
    "- Rows for Berkeley students have a 80% chance of being placed in the train set and 20% chance of placed in the test set.\n",
    "\n",
    "\n",
    "Given that a row is in the test set, what is the probability that it corresponds to a Stanford student? Assign that probability to `prob_furd`.\n",
    "\n",
    "*Hint: Remember that there are 77 Berkeley students and 23 Stanford students in `coordinates`*\n",
    "\n",
    "*Hint 2: Thomas' last name is Bayes*\n",
    "\n",
    "\n",
    "<!--\n",
    "BEGIN QUESTION\n",
    "name: q1_9\n",
    "manual: false\n",
    "-->"
   ]
  },
  {
   "cell_type": "code",
   "execution_count": 58,
   "metadata": {},
   "outputs": [
    {
     "data": {
      "text/plain": [
       "0.42750929368029744"
      ]
     },
     "execution_count": 58,
     "metadata": {},
     "output_type": "execute_result"
    }
   ],
   "source": [
    "prob_furd = (23*0.5)/((23*0.5) + (77*0.2))\n",
    "prob_furd"
   ]
  },
  {
   "cell_type": "code",
   "execution_count": 59,
   "metadata": {
    "deletable": false,
    "editable": false
   },
   "outputs": [
    {
     "name": "stdout",
     "output_type": "stream",
     "text": [
      "~~~~~~~~~~~~~~~~~~~~~~~~~~~~~~~~~~~~~~~~~~~~~~~~~~~~~~~~~~~~~~~~~~~~~\n",
      "Running tests\n",
      "\n",
      "---------------------------------------------------------------------\n",
      "Test summary\n",
      "    Passed: 2\n",
      "    Failed: 0\n",
      "[ooooooooook] 100.0% passed\n",
      "\n"
     ]
    }
   ],
   "source": [
    "ok.grade(\"q1_9\");"
   ]
  },
  {
   "cell_type": "markdown",
   "metadata": {},
   "source": [
    "## (OPTIONAL, NOT IN SCOPE): k-NN for Non-Binary Classification"
   ]
  },
  {
   "cell_type": "markdown",
   "metadata": {
    "deletable": false,
    "editable": false
   },
   "source": [
    "**THIS IS NOT IN SCOPE/IS OPTIONAL**. There are no autograder tests for this/code for you to write. It just relies on the function `classify` in Question 4.\n",
    "\n",
    "In this class, we have taught you how to use the kNN algorithm to classify data as one of two classes. However, much of the data you will encounter in the real world will not fall nicely into one of two categories. \n",
    "\n",
    "How can we classify data with non-binary classes? It turns out we can still use kNN! That is, we find the distance between a point and all its neighbors, find the nearest neighbors, and take a majority vote among the neighbors to determine this point's class. \n",
    "\n",
    "The only difference is that now the neighboring points have more than two possible classes. This does introduce difficulty because now we have no way of guaranteeing that we will not encounter ties between classes. In the case that we do encounter a tie, we can just arbitrarily choose one of the classes.\n",
    "\n",
    "In fact, you don't even have to modify the code you wrote before at all to enable multi-class classification!"
   ]
  },
  {
   "cell_type": "markdown",
   "metadata": {
    "deletable": false,
    "editable": false
   },
   "source": [
    "Let's add some more data to our train table, this time for another class of students, students at San Jose Community College (SJCC)."
   ]
  },
  {
   "cell_type": "code",
   "execution_count": 27,
   "metadata": {
    "deletable": false,
    "editable": false
   },
   "outputs": [],
   "source": [
    "coordinates_multi = coordinates.with_rows([\n",
    "                              [37.304346, -121.915401, \"SJCC\"],\n",
    "                              [37.316275, -121.913879, \"SJCC\"],\n",
    "                              [37.409435, -121.951379, \"SJCC\"],\n",
    "                              [37.349387, -121.960771, \"SJCC\"],\n",
    "                              [37.329083, -121.928479, \"SJCC\"],\n",
    "                              [37.313017, -121.866730, \"SJCC\"],\n",
    "                              [37.346525, -121.894767, \"SJCC\"],\n",
    "                              [37.364157, -121.955717, \"SJCC\"],\n",
    "                              [37.383362, -121.925776, \"SJCC\"],\n",
    "                              [37.329545, -121.880639, \"SJCC\"]                             \n",
    "])"
   ]
  },
  {
   "cell_type": "code",
   "execution_count": 28,
   "metadata": {
    "deletable": false,
    "editable": false
   },
   "outputs": [],
   "source": [
    "classify(coordinates_multi.row(0), 5, coordinates_multi)"
   ]
  },
  {
   "cell_type": "code",
   "execution_count": 29,
   "metadata": {
    "deletable": false,
    "editable": false
   },
   "outputs": [],
   "source": [
    "classify(coordinates_multi.row(91), 5, coordinates_multi)"
   ]
  },
  {
   "cell_type": "code",
   "execution_count": 30,
   "metadata": {
    "deletable": false,
    "editable": false
   },
   "outputs": [],
   "source": [
    "classify(coordinates_multi.row(105), 5, coordinates_multi)"
   ]
  },
  {
   "cell_type": "markdown",
   "metadata": {},
   "source": [
    "Our classifier can classify rows as belonging to one of three classes!\n",
    "\n",
    "Classification is one of the most important fields in statistics, data science, and machine learning. There are thousands of different classification algorithms and modifications of algorithms! There are many that you'll learn if you continue down the path of becoming a data scientist!"
   ]
  },
  {
   "cell_type": "markdown",
   "metadata": {},
   "source": [
    "## 2. Final-Semester Survey\n"
   ]
  },
  {
   "cell_type": "markdown",
   "metadata": {},
   "source": [
    "You can find the end of semester feedback form [here](https://docs.google.com/forms/d/e/1FAIpQLSeVRzkHTsNIrnbIaYCopJViaFDro1HfemS4y79Q_oZPxUcEvg/viewform?usp=sf_link). Please take some time to fill the survey out! Data 8 is still a relatively new class, and your feedback helps the class get better every semester!\n",
    "\n",
    "As incentive, if 80% of the course fills out this feedback form **and** the official Berkeley Course Evaluations (which will be released sometime in the next couple of weeks) for Data 8, everyone will receive two points of extra credit!"
   ]
  },
  {
   "cell_type": "markdown",
   "metadata": {
    "deletable": false,
    "editable": false
   },
   "source": [
    "**Question 1.** Fill out the end of semester feedback form linked above. Once you have submitted, a secret word will be displayed. Set `secret_word` to the secret string at the end of the form.\n",
    "\n",
    "<!--\n",
    "BEGIN QUESTION\n",
    "name: q2_1\n",
    "manual: false\n",
    "-->"
   ]
  },
  {
   "cell_type": "code",
   "execution_count": 61,
   "metadata": {},
   "outputs": [],
   "source": [
    "secret_word = 'bayes'"
   ]
  },
  {
   "cell_type": "code",
   "execution_count": 62,
   "metadata": {
    "deletable": false,
    "editable": false
   },
   "outputs": [
    {
     "name": "stdout",
     "output_type": "stream",
     "text": [
      "~~~~~~~~~~~~~~~~~~~~~~~~~~~~~~~~~~~~~~~~~~~~~~~~~~~~~~~~~~~~~~~~~~~~~\n",
      "Running tests\n",
      "\n",
      "---------------------------------------------------------------------\n",
      "Test summary\n",
      "    Passed: 1\n",
      "    Failed: 0\n",
      "[ooooooooook] 100.0% passed\n",
      "\n"
     ]
    }
   ],
   "source": [
    "ok.grade(\"q2_1\");"
   ]
  },
  {
   "cell_type": "markdown",
   "metadata": {},
   "source": [
    "## 3. Submission\n"
   ]
  },
  {
   "cell_type": "markdown",
   "metadata": {
    "collapsed": true
   },
   "source": [
    "Once you're finished, select \"Save and Checkpoint\" in the File menu and then execute the `submit` cell below. The result will contain a link that you can use to check that your assignment has been submitted successfully. If you submit more than once before the deadline, we will only grade your final submission. If you mistakenly submit the wrong one, you can head to [okpy.org](https://okpy.org/) and flag the correct version. To do so, go to the website, click on this assignment, and find the version you would like to have graded. There should be an option to flag that submission for grading!"
   ]
  },
  {
   "cell_type": "code",
   "execution_count": null,
   "metadata": {},
   "outputs": [
    {
     "data": {
      "application/javascript": [
       "IPython.notebook.save_checkpoint();"
      ],
      "text/plain": [
       "<IPython.core.display.Javascript object>"
      ]
     },
     "metadata": {},
     "output_type": "display_data"
    }
   ],
   "source": [
    "_ = ok.submit()"
   ]
  },
  {
   "cell_type": "code",
   "execution_count": 36,
   "metadata": {},
   "outputs": [
    {
     "name": "stdout",
     "output_type": "stream",
     "text": [
      "Running all tests...\n",
      "~~~~~~~~~~~~~~~~~~~~~~~~~~~~~~~~~~~~~~~~~~~~~~~~~~~~~~~~~~~~~~~~~~~~~\n",
      "Running tests\n",
      "\n",
      "---------------------------------------------------------------------\n",
      "Test summary\n",
      "    Passed: 1\n",
      "    Failed: 0\n",
      "[ooooooooook] 100.0% passed\n",
      "\n",
      "~~~~~~~~~~~~~~~~~~~~~~~~~~~~~~~~~~~~~~~~~~~~~~~~~~~~~~~~~~~~~~~~~~~~~\n",
      "Running tests\n",
      "\n",
      "---------------------------------------------------------------------\n",
      "Test summary\n",
      "    Passed: 2\n",
      "    Failed: 0\n",
      "[ooooooooook] 100.0% passed\n",
      "\n",
      "~~~~~~~~~~~~~~~~~~~~~~~~~~~~~~~~~~~~~~~~~~~~~~~~~~~~~~~~~~~~~~~~~~~~~\n",
      "Running tests\n",
      "\n",
      "---------------------------------------------------------------------\n",
      "Test summary\n",
      "    Passed: 2\n",
      "    Failed: 0\n",
      "[ooooooooook] 100.0% passed\n",
      "\n",
      "~~~~~~~~~~~~~~~~~~~~~~~~~~~~~~~~~~~~~~~~~~~~~~~~~~~~~~~~~~~~~~~~~~~~~\n",
      "Running tests\n",
      "\n",
      "---------------------------------------------------------------------\n",
      "Test summary\n",
      "    Passed: 2\n",
      "    Failed: 0\n",
      "[ooooooooook] 100.0% passed\n",
      "\n",
      "~~~~~~~~~~~~~~~~~~~~~~~~~~~~~~~~~~~~~~~~~~~~~~~~~~~~~~~~~~~~~~~~~~~~~\n",
      "Running tests\n",
      "\n",
      "---------------------------------------------------------------------\n",
      "Test summary\n",
      "    Passed: 3\n",
      "    Failed: 0\n",
      "[ooooooooook] 100.0% passed\n",
      "\n",
      "~~~~~~~~~~~~~~~~~~~~~~~~~~~~~~~~~~~~~~~~~~~~~~~~~~~~~~~~~~~~~~~~~~~~~\n",
      "Running tests\n",
      "\n",
      "---------------------------------------------------------------------\n",
      "Test summary\n",
      "    Passed: 1\n",
      "    Failed: 0\n",
      "[ooooooooook] 100.0% passed\n",
      "\n",
      "~~~~~~~~~~~~~~~~~~~~~~~~~~~~~~~~~~~~~~~~~~~~~~~~~~~~~~~~~~~~~~~~~~~~~\n",
      "Running tests\n",
      "\n",
      "---------------------------------------------------------------------\n",
      "Test summary\n",
      "    Passed: 2\n",
      "    Failed: 0\n",
      "[ooooooooook] 100.0% passed\n",
      "\n",
      "~~~~~~~~~~~~~~~~~~~~~~~~~~~~~~~~~~~~~~~~~~~~~~~~~~~~~~~~~~~~~~~~~~~~~\n",
      "Running tests\n",
      "\n",
      "---------------------------------------------------------------------\n",
      "q2_1 > Suite 1 > Case 1\n",
      "\n",
      ">>> len(secret_word) > 0\n",
      "NameError: name 'secret_word' is not defined\n",
      "\n",
      "# Error: expected\n",
      "#     True\n",
      "# but got\n",
      "#     Traceback (most recent call last):\n",
      "#       ...\n",
      "#     NameError: name 'secret_word' is not defined\n",
      "\n",
      "Run only this test case with \"python3 ok -q q2_1 --suite 1 --case 1\"\n",
      "---------------------------------------------------------------------\n",
      "Test summary\n",
      "    Passed: 0\n",
      "    Failed: 1\n",
      "[k..........] 0.0% passed\n",
      "\n",
      "Finished running all tests.\n"
     ]
    }
   ],
   "source": [
    "# For your convenience, you can run this cell to run all the tests at once!\n",
    "import os\n",
    "print(\"Running all tests...\")\n",
    "_ = [ok.grade(q[:-3]) for q in os.listdir(\"tests\") if q.startswith('q') and len(q) <= 10]\n",
    "print(\"Finished running all tests.\")"
   ]
  },
  {
   "cell_type": "code",
   "execution_count": null,
   "metadata": {},
   "outputs": [],
   "source": []
  }
 ],
 "metadata": {
  "kernelspec": {
   "display_name": "Python 3 (ipykernel)",
   "language": "python",
   "name": "python3"
  },
  "language_info": {
   "codemirror_mode": {
    "name": "ipython",
    "version": 3
   },
   "file_extension": ".py",
   "mimetype": "text/x-python",
   "name": "python",
   "nbconvert_exporter": "python",
   "pygments_lexer": "ipython3",
   "version": "3.9.7"
  }
 },
 "nbformat": 4,
 "nbformat_minor": 1
}
